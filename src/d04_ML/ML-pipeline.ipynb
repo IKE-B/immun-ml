{
 "cells": [
  {
   "cell_type": "markdown",
   "source": [
    "# ML Pipeline"
   ],
   "metadata": {
    "collapsed": false
   }
  },
  {
   "cell_type": "code",
   "execution_count": 74,
   "outputs": [],
   "source": [
    "# imports\n",
    "import pandas as pd\n",
    "import numpy as np\n",
    "import random\n",
    "\n",
    "from sklearn.preprocessing import LabelEncoder, RobustScaler\n",
    "from sklearn.model_selection import GroupKFold, cross_val_score\n",
    "from sklearn import linear_model\n"
   ],
   "metadata": {
    "collapsed": false
   }
  },
  {
   "cell_type": "code",
   "execution_count": 42,
   "outputs": [],
   "source": [
    "# read in df\n",
    "path_win = 'G://My Drive//Forschung//Mitarbeiter//Allgaier//23-12-06_Immun-ML//04_Data//03_ML//'\n",
    "\n",
    "df = pd.read_excel(path_win + '2024.04.24_Mastertabelle_ML.xlsx', index_col='Unnamed: 0')"
   ],
   "metadata": {
    "collapsed": false
   }
  },
  {
   "cell_type": "markdown",
   "source": [
    "## Prepare"
   ],
   "metadata": {
    "collapsed": false
   }
  },
  {
   "cell_type": "code",
   "execution_count": 43,
   "outputs": [],
   "source": [
    "# drop rows where target is None\n",
    "df = df[df['future_measurement_val'].notna()]"
   ],
   "metadata": {
    "collapsed": false
   }
  },
  {
   "cell_type": "code",
   "execution_count": 44,
   "outputs": [],
   "source": [
    "# create new feature\n",
    "df['n_events_so_far'] = df['n_vaccinations_so_far'] + df['n_infections_so_far']"
   ],
   "metadata": {
    "collapsed": false
   }
  },
  {
   "cell_type": "code",
   "execution_count": 67,
   "outputs": [],
   "source": [
    "# define feature list\n",
    "features = ['Alter', 'Geschlecht', 'Dialyse_x', 'n_events_so_far', 'SARS-IgG', 'vaccination']"
   ],
   "metadata": {
    "collapsed": false
   }
  },
  {
   "cell_type": "code",
   "execution_count": 46,
   "outputs": [],
   "source": [
    "# define target\n",
    "target = ['future_measurement_val']"
   ],
   "metadata": {
    "collapsed": false
   }
  },
  {
   "cell_type": "markdown",
   "source": [
    "## Define train and test users"
   ],
   "metadata": {
    "collapsed": false
   }
  },
  {
   "cell_type": "code",
   "execution_count": 81,
   "outputs": [],
   "source": [
    "# define train and test users\n",
    "random.seed(1994)\n",
    "\n",
    "all_users = df['ID'].unique().tolist()\n",
    "train_users = random.sample(all_users, int(len(all_users)*0.8))\n",
    "test_users = [user for user in all_users if user not in train_users]\n",
    "\n",
    "assert set(train_users + test_users) == set(all_users)"
   ],
   "metadata": {
    "collapsed": false
   }
  },
  {
   "cell_type": "code",
   "execution_count": 82,
   "outputs": [],
   "source": [
    "# define train and test dataframes\n",
    "df_train = df[df['ID'].isin(train_users)]\n",
    "df_test = df[df['ID'].isin(test_users)]\n",
    "\n",
    "assert df_train.shape[0] + df_test.shape[0] == df.shape[0]"
   ],
   "metadata": {
    "collapsed": false
   }
  },
  {
   "cell_type": "markdown",
   "source": [
    "## Transform"
   ],
   "metadata": {
    "collapsed": false
   }
  },
  {
   "cell_type": "code",
   "execution_count": 83,
   "outputs": [
    {
     "name": "stderr",
     "output_type": "stream",
     "text": [
      "C:\\Users\\joa24jm\\AppData\\Local\\Temp\\ipykernel_176\\3159380307.py:3: SettingWithCopyWarning: \n",
      "A value is trying to be set on a copy of a slice from a DataFrame.\n",
      "Try using .loc[row_indexer,col_indexer] = value instead\n",
      "\n",
      "See the caveats in the documentation: https://pandas.pydata.org/pandas-docs/stable/user_guide/indexing.html#returning-a-view-versus-a-copy\n",
      "  df_train.loc[:,'Alter_bins'] = pd.cut(df_train.Alter, bins)\n"
     ]
    }
   ],
   "source": [
    "# Alter\n",
    "bins = np.arange(0, 120, 10)\n",
    "df_train.loc[:,'Alter_bins'] = pd.cut(df_train.Alter, bins)\n",
    "\n",
    "le_age = LabelEncoder()\n",
    "df_train.loc[:,'Alter_bins'] = le_age.fit_transform(df_train['Alter_bins'].values)"
   ],
   "metadata": {
    "collapsed": false
   }
  },
  {
   "cell_type": "code",
   "execution_count": 84,
   "outputs": [],
   "source": [
    "#SARS-IgG\n",
    "rs = RobustScaler()\n",
    "rs.fit(df_train['SARS-IgG'].values.reshape(-1, 1))\n",
    "df_train.loc[:, 'SARS-IgG'] = rs.transform(df_train.loc[:,'SARS-IgG'].values.reshape(-1, 1))"
   ],
   "metadata": {
    "collapsed": false
   }
  },
  {
   "cell_type": "markdown",
   "source": [
    "## Group Cross Validate"
   ],
   "metadata": {
    "collapsed": false
   }
  },
  {
   "cell_type": "code",
   "execution_count": 105,
   "outputs": [
    {
     "name": "stdout",
     "output_type": "stream",
     "text": [
      "mean RMSE:\t 2525\n",
      "std RMSE:\t 222\n"
     ]
    }
   ],
   "source": [
    "# define features and target\n",
    "X = df_train[features]\n",
    "y = df_train[target]\n",
    "\n",
    "# Retrieve an identifier column 'ID' from the dataframe\n",
    "groups = df_train['ID']\n",
    "# Initialize a Lasso regression model.\n",
    "lasso = linear_model.Lasso()\n",
    "# Perform 5-fold group cross-validation to evaluate model using negative MSE.\n",
    "scores = list(cross_val_score(lasso, X, y, groups=groups,cv=5, scoring='neg_mean_squared_error'))\n",
    "# Convert MSE scores to RMSE scores.\n",
    "rmse_scores = [(-1*score)**0.5 for score in scores]\n",
    "print('mean RMSE:\\t', int(np.array(rmse_scores).mean()))\n",
    "print('std RMSE:\\t', int(np.array(rmse_scores).std()))\n",
    "\n",
    "#TODO: go to hold-out test set\n"
   ],
   "metadata": {
    "collapsed": false
   }
  },
  {
   "cell_type": "markdown",
   "source": [
    "## How good is a simple heuristic?"
   ],
   "metadata": {
    "collapsed": false
   }
  },
  {
   "cell_type": "code",
   "execution_count": 113,
   "outputs": [
    {
     "data": {
      "text/plain": "2444"
     },
     "execution_count": 113,
     "metadata": {},
     "output_type": "execute_result"
    }
   ],
   "source": [
    "m = y.mean().iloc[0]\n",
    "\n",
    "y_pred = [m for i in range(y.shape[0])]\n",
    "y_true = y\n",
    "\n",
    "from sklearn.metrics import mean_squared_error\n",
    "int(mean_squared_error(y, y_pred)**0.5)"
   ],
   "metadata": {
    "collapsed": false
   }
  }
 ],
 "metadata": {
  "kernelspec": {
   "display_name": "Python 3",
   "language": "python",
   "name": "python3"
  },
  "language_info": {
   "codemirror_mode": {
    "name": "ipython",
    "version": 2
   },
   "file_extension": ".py",
   "mimetype": "text/x-python",
   "name": "python",
   "nbconvert_exporter": "python",
   "pygments_lexer": "ipython2",
   "version": "2.7.6"
  }
 },
 "nbformat": 4,
 "nbformat_minor": 0
}
