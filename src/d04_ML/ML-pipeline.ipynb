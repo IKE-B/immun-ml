{
 "cells": [
  {
   "cell_type": "markdown",
   "source": [
    "# ML Pipeline"
   ],
   "metadata": {
    "collapsed": false
   }
  },
  {
   "cell_type": "code",
   "execution_count": 45,
   "outputs": [],
   "source": [
    "# imports\n",
    "import pandas as pd\n",
    "import numpy as np\n",
    "import random\n",
    "\n",
    "from sklearn.preprocessing import LabelEncoder, RobustScaler\n",
    "from sklearn.model_selection import GroupKFold, cross_val_score\n",
    "from sklearn import linear_model\n",
    "from sklearn.ensemble import RandomForestRegressor\n",
    "from sklearn.svm import SVR\n",
    "from sklearn.ensemble import AdaBoostRegressor\n",
    "\n",
    "from sklearn.feature_selection import SelectKBest\n",
    "from sklearn.feature_selection import f_regression"
   ],
   "metadata": {
    "collapsed": false
   }
  },
  {
   "cell_type": "code",
   "execution_count": 46,
   "outputs": [],
   "source": [
    "# read in df\n",
    "path_win = 'G://My Drive//Forschung//Mitarbeiter//Allgaier//23-12-06_Immun-ML//04_Data//03_ML//'\n",
    "path_mac = '/Users/johannesallgaier/My Drive/Forschung/Mitarbeiter/Allgaier/23-12-06_Immun-ML/04_Data/03_ML'\n",
    "\n",
    "df = pd.read_excel('../../data/03_ml/2024.04.24_Mastertabelle_ML.xlsx', index_col='Unnamed: 0')"
   ],
   "metadata": {
    "collapsed": false
   }
  },
  {
   "cell_type": "markdown",
   "source": [
    "## Prepare"
   ],
   "metadata": {
    "collapsed": false
   }
  },
  {
   "cell_type": "code",
   "execution_count": 47,
   "outputs": [],
   "source": [
    "# drop rows where target is None\n",
    "df = df[df['future_measurement_val'].notna()]"
   ],
   "metadata": {
    "collapsed": false
   }
  },
  {
   "cell_type": "code",
   "execution_count": 48,
   "outputs": [],
   "source": [
    "# create new feature\n",
    "df['n_events_so_far'] = df['n_vaccinations_so_far'] + df['n_infections_so_far']"
   ],
   "metadata": {
    "collapsed": false
   }
  },
  {
   "cell_type": "code",
   "execution_count": 49,
   "outputs": [],
   "source": [
    "# define feature list\n",
    "features = ['Alter', 'Geschlecht', 'Dialyse_x', 'n_vaccinations_so_far', 'n_infections_so_far','SARS-IgG', 'vaccination']"
   ],
   "metadata": {
    "collapsed": false
   }
  },
  {
   "cell_type": "code",
   "execution_count": 50,
   "outputs": [],
   "source": [
    "# define target\n",
    "target = ['future_measurement_val']"
   ],
   "metadata": {
    "collapsed": false
   }
  },
  {
   "cell_type": "markdown",
   "source": [
    "## Define train and test users"
   ],
   "metadata": {
    "collapsed": false
   }
  },
  {
   "cell_type": "code",
   "execution_count": 51,
   "outputs": [],
   "source": [
    "# define train and test users\n",
    "random.seed(1994)\n",
    "\n",
    "all_users = df['ID'].unique().tolist()\n",
    "train_users = random.sample(all_users, int(len(all_users)*0.8))\n",
    "test_users = [user for user in all_users if user not in train_users]\n",
    "\n",
    "assert set(train_users + test_users) == set(all_users)"
   ],
   "metadata": {
    "collapsed": false
   }
  },
  {
   "cell_type": "code",
   "execution_count": 52,
   "outputs": [],
   "source": [
    "# define train and test dataframes\n",
    "df_train = df[df['ID'].isin(train_users)]\n",
    "df_test = df[df['ID'].isin(test_users)]\n",
    "\n",
    "assert df_train.shape[0] + df_test.shape[0] == df.shape[0]"
   ],
   "metadata": {
    "collapsed": false
   }
  },
  {
   "cell_type": "markdown",
   "source": [
    "## Transform"
   ],
   "metadata": {
    "collapsed": false
   }
  },
  {
   "cell_type": "code",
   "execution_count": 53,
   "outputs": [
    {
     "name": "stderr",
     "output_type": "stream",
     "text": [
      "/var/folders/gd/33s144q948l12nxsrzffm0s80000gn/T/ipykernel_6230/3159380307.py:3: SettingWithCopyWarning: \n",
      "A value is trying to be set on a copy of a slice from a DataFrame.\n",
      "Try using .loc[row_indexer,col_indexer] = value instead\n",
      "\n",
      "See the caveats in the documentation: https://pandas.pydata.org/pandas-docs/stable/user_guide/indexing.html#returning-a-view-versus-a-copy\n",
      "  df_train.loc[:,'Alter_bins'] = pd.cut(df_train.Alter, bins)\n"
     ]
    }
   ],
   "source": [
    "# Alter\n",
    "bins = np.arange(0, 120, 10)\n",
    "df_train.loc[:,'Alter_bins'] = pd.cut(df_train.Alter, bins)\n",
    "\n",
    "le_age = LabelEncoder()\n",
    "df_train.loc[:,'Alter_bins'] = le_age.fit_transform(df_train['Alter_bins'].values)"
   ],
   "metadata": {
    "collapsed": false
   }
  },
  {
   "cell_type": "code",
   "execution_count": 54,
   "outputs": [],
   "source": [
    "#SARS-IgG\n",
    "rs = RobustScaler()\n",
    "rs.fit(df_train['SARS-IgG'].values.reshape(-1, 1))\n",
    "df_train.loc[:, 'SARS-IgG'] = rs.transform(df_train.loc[:,'SARS-IgG'].values.reshape(-1, 1))"
   ],
   "metadata": {
    "collapsed": false
   }
  },
  {
   "cell_type": "markdown",
   "source": [
    "## Group Cross Validate"
   ],
   "metadata": {
    "collapsed": false
   }
  },
  {
   "cell_type": "code",
   "execution_count": 57,
   "outputs": [
    {
     "name": "stdout",
     "output_type": "stream",
     "text": [
      "mean RMSE:\t 2508\n",
      "std RMSE:\t 227\n"
     ]
    }
   ],
   "source": [
    "# define features and target\n",
    "X = df_train[features].dropna()\n",
    "y = df_train.loc[X.index, target].values.ravel()\n",
    "\n",
    "total_rmse_scores=list()\n",
    "\n",
    "# Retrieve an identifier column 'ID' from the dataframe\n",
    "groups = df_train.loc[X.index, 'ID']\n",
    "\n",
    "for rs in range(100):\n",
    "\n",
    "    # Initialize a Lasso regression model.\n",
    "    model = RandomForestRegressor(random_state=1994)\n",
    "    # Perform 5-fold group cross-validation to evaluate model using negative MSE.\n",
    "    total_rmse_scores.extend(list(cross_val_score(model, X, y, groups=groups,cv=5, scoring='neg_mean_squared_error')))\n",
    "\n",
    "# Convert MSE scores to RMSE scores.\n",
    "rmse_scores = [(-1*score)**0.5 for score in total_rmse_scores]\n",
    "print('mean RMSE:\\t', int(np.array(rmse_scores).mean()))\n",
    "print('std RMSE:\\t', int(np.array(rmse_scores).std()))\n",
    "\n",
    "#TODO: go to hold-out test set\n"
   ],
   "metadata": {
    "collapsed": false
   }
  },
  {
   "cell_type": "markdown",
   "source": [
    "### Performance Log of Mean RMSE (Std):\n",
    "```\n",
    "features = ['Alter', 'Geschlecht', 'Dialyse_x', 'n_events_so_far','SARS-IgG', 'vaccination']\n",
    "Mean    2329\n",
    "Lasso   2525\n",
    "RF      2220 (495)\n",
    "RF      2599 (340)\n",
    "SVR     2446 (500)\n",
    "RF (default params)     2545 (339)\n",
    "Adaboost    2642 (327)\n",
    "\n",
    "features = ['Alter', 'Geschlecht', 'Dialyse_x', 'n_vaccinations_so_far', 'n_infections_so_far','SARS-IgG', 'vaccination']\n",
    "RF  2508 (227)\n",
    "```\n"
   ],
   "metadata": {
    "collapsed": false
   }
  },
  {
   "cell_type": "markdown",
   "source": [
    "## How good is a simple heuristic?"
   ],
   "metadata": {
    "collapsed": false
   }
  },
  {
   "cell_type": "code",
   "execution_count": 56,
   "outputs": [
    {
     "name": "stdout",
     "output_type": "stream",
     "text": [
      "RMSE\t 2329\n"
     ]
    }
   ],
   "source": [
    "m = y.mean()\n",
    "\n",
    "y_pred = [m for i in range(y.shape[0])]\n",
    "y_true = y\n",
    "\n",
    "from sklearn.metrics import mean_squared_error\n",
    "print('RMSE\\t', int(mean_squared_error(y, y_pred)**0.5))"
   ],
   "metadata": {
    "collapsed": false
   }
  },
  {
   "cell_type": "code",
   "execution_count": 56,
   "outputs": [],
   "source": [],
   "metadata": {
    "collapsed": false
   }
  }
 ],
 "metadata": {
  "kernelspec": {
   "display_name": "Python 3",
   "language": "python",
   "name": "python3"
  },
  "language_info": {
   "codemirror_mode": {
    "name": "ipython",
    "version": 2
   },
   "file_extension": ".py",
   "mimetype": "text/x-python",
   "name": "python",
   "nbconvert_exporter": "python",
   "pygments_lexer": "ipython2",
   "version": "2.7.6"
  }
 },
 "nbformat": 4,
 "nbformat_minor": 0
}
