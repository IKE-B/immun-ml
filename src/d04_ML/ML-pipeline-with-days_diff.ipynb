{
 "cells": [
  {
   "cell_type": "markdown",
   "source": [
    "# ML Pipeline"
   ],
   "metadata": {
    "collapsed": false
   }
  },
  {
   "cell_type": "code",
   "execution_count": 1,
   "outputs": [],
   "source": [
    "# imports\n",
    "import pandas as pd\n",
    "import numpy as np\n",
    "import random\n",
    "\n",
    "from sklearn.preprocessing import LabelEncoder, RobustScaler\n",
    "from sklearn.model_selection import GroupKFold, cross_val_score\n",
    "from sklearn import linear_model\n",
    "from sklearn.ensemble import RandomForestRegressor\n",
    "from sklearn.svm import SVR\n",
    "from sklearn.ensemble import AdaBoostRegressor\n",
    "\n",
    "from sklearn.feature_selection import SelectKBest\n",
    "from sklearn.feature_selection import f_regression"
   ],
   "metadata": {
    "collapsed": false
   }
  },
  {
   "cell_type": "code",
   "execution_count": 40,
   "outputs": [],
   "source": [
    "# read in df\n",
    "name = '2024.04.24_Mastertabelle_ML.xlsx'\n",
    "path_win = 'G://My Drive//Forschung//Mitarbeiter//Allgaier//23-12-06_Immun-ML//04_Data//03_ML//'\n",
    "path_mac = '/Users/johannesallgaier/My Drive/Forschung/Mitarbeiter/Allgaier/23-12-06_Immun-ML/04_Data/03_ML'\n",
    "\n",
    "df = pd.read_excel(path_win + name, index_col='Unnamed: 0')"
   ],
   "metadata": {
    "collapsed": false
   }
  },
  {
   "cell_type": "markdown",
   "source": [
    "## Prepare"
   ],
   "metadata": {
    "collapsed": false
   }
  },
  {
   "cell_type": "code",
   "execution_count": 41,
   "outputs": [],
   "source": [
    "# drop rows where the last event did not happen today\n",
    "df = df[df['days_since_last_event']>0]"
   ],
   "metadata": {
    "collapsed": false
   }
  },
  {
   "cell_type": "code",
   "execution_count": 42,
   "outputs": [],
   "source": [
    "# create new feature\n",
    "df['n_events_so_far'] = df['n_vaccinations_so_far'] + df['n_infections_so_far']"
   ],
   "metadata": {
    "collapsed": false
   }
  },
  {
   "cell_type": "code",
   "execution_count": 43,
   "outputs": [
    {
     "data": {
      "text/plain": "     ID       date  SARS-IgG  days_until_next_measurement  \\\n2    C1 2021-03-12     18.27                         30.0   \n3    C1 2021-04-11    247.59                         60.0   \n4    C1 2021-06-10     91.35                         90.0   \n5    C1 2021-09-08     52.08                         65.0   \n7    C1 2021-11-12   1484.70                         60.0   \n8    C1 2022-01-11    711.90                         90.0   \n9    C1 2022-04-11    360.99                         90.0   \n10   C1 2022-07-10    321.22                         90.0   \n11   C1 2022-10-08   1311.04                         90.0   \n12   C1 2023-01-06   1905.27                         90.0   \n13   C1 2023-04-06   1245.23                          NaN   \n16  C10 2021-03-12     52.71                         30.0   \n17  C10 2021-04-11   1697.91                         60.0   \n18  C10 2021-06-10    358.26                         90.0   \n19  C10 2021-09-08    138.18                        128.0   \n\n    SARS-IgG_future_value  \n2                  247.59  \n3                   91.35  \n4                   52.08  \n5                 1484.70  \n7                  711.90  \n8                  360.99  \n9                  321.22  \n10                1311.04  \n11                1905.27  \n12                1245.23  \n13                    NaN  \n16                1697.91  \n17                 358.26  \n18                 138.18  \n19                1747.20  ",
      "text/html": "<div>\n<style scoped>\n    .dataframe tbody tr th:only-of-type {\n        vertical-align: middle;\n    }\n\n    .dataframe tbody tr th {\n        vertical-align: top;\n    }\n\n    .dataframe thead th {\n        text-align: right;\n    }\n</style>\n<table border=\"1\" class=\"dataframe\">\n  <thead>\n    <tr style=\"text-align: right;\">\n      <th></th>\n      <th>ID</th>\n      <th>date</th>\n      <th>SARS-IgG</th>\n      <th>days_until_next_measurement</th>\n      <th>SARS-IgG_future_value</th>\n    </tr>\n  </thead>\n  <tbody>\n    <tr>\n      <th>2</th>\n      <td>C1</td>\n      <td>2021-03-12</td>\n      <td>18.27</td>\n      <td>30.0</td>\n      <td>247.59</td>\n    </tr>\n    <tr>\n      <th>3</th>\n      <td>C1</td>\n      <td>2021-04-11</td>\n      <td>247.59</td>\n      <td>60.0</td>\n      <td>91.35</td>\n    </tr>\n    <tr>\n      <th>4</th>\n      <td>C1</td>\n      <td>2021-06-10</td>\n      <td>91.35</td>\n      <td>90.0</td>\n      <td>52.08</td>\n    </tr>\n    <tr>\n      <th>5</th>\n      <td>C1</td>\n      <td>2021-09-08</td>\n      <td>52.08</td>\n      <td>65.0</td>\n      <td>1484.70</td>\n    </tr>\n    <tr>\n      <th>7</th>\n      <td>C1</td>\n      <td>2021-11-12</td>\n      <td>1484.70</td>\n      <td>60.0</td>\n      <td>711.90</td>\n    </tr>\n    <tr>\n      <th>8</th>\n      <td>C1</td>\n      <td>2022-01-11</td>\n      <td>711.90</td>\n      <td>90.0</td>\n      <td>360.99</td>\n    </tr>\n    <tr>\n      <th>9</th>\n      <td>C1</td>\n      <td>2022-04-11</td>\n      <td>360.99</td>\n      <td>90.0</td>\n      <td>321.22</td>\n    </tr>\n    <tr>\n      <th>10</th>\n      <td>C1</td>\n      <td>2022-07-10</td>\n      <td>321.22</td>\n      <td>90.0</td>\n      <td>1311.04</td>\n    </tr>\n    <tr>\n      <th>11</th>\n      <td>C1</td>\n      <td>2022-10-08</td>\n      <td>1311.04</td>\n      <td>90.0</td>\n      <td>1905.27</td>\n    </tr>\n    <tr>\n      <th>12</th>\n      <td>C1</td>\n      <td>2023-01-06</td>\n      <td>1905.27</td>\n      <td>90.0</td>\n      <td>1245.23</td>\n    </tr>\n    <tr>\n      <th>13</th>\n      <td>C1</td>\n      <td>2023-04-06</td>\n      <td>1245.23</td>\n      <td>NaN</td>\n      <td>NaN</td>\n    </tr>\n    <tr>\n      <th>16</th>\n      <td>C10</td>\n      <td>2021-03-12</td>\n      <td>52.71</td>\n      <td>30.0</td>\n      <td>1697.91</td>\n    </tr>\n    <tr>\n      <th>17</th>\n      <td>C10</td>\n      <td>2021-04-11</td>\n      <td>1697.91</td>\n      <td>60.0</td>\n      <td>358.26</td>\n    </tr>\n    <tr>\n      <th>18</th>\n      <td>C10</td>\n      <td>2021-06-10</td>\n      <td>358.26</td>\n      <td>90.0</td>\n      <td>138.18</td>\n    </tr>\n    <tr>\n      <th>19</th>\n      <td>C10</td>\n      <td>2021-09-08</td>\n      <td>138.18</td>\n      <td>128.0</td>\n      <td>1747.20</td>\n    </tr>\n  </tbody>\n</table>\n</div>"
     },
     "execution_count": 43,
     "metadata": {},
     "output_type": "execute_result"
    }
   ],
   "source": [
    "def add_days_diff(df):\n",
    "    \"\"\"\n",
    "    Adds a 'days_diff' column to the DataFrame which calculates the number of days\n",
    "    between subsequent dates for each patient ID.\n",
    "\n",
    "    Parameters:\n",
    "    df (pd.DataFrame): A pandas DataFrame with columns 'ID' and 'date'.\n",
    "\n",
    "    Returns:\n",
    "    pd.DataFrame: A new DataFrame with the 'days_diff' column added.\n",
    "    \"\"\"\n",
    "    # Ensure 'date' column is of datetime type\n",
    "    df['date'] = pd.to_datetime(df['date'])\n",
    "\n",
    "    # Sort the dataframe by 'ID' and 'date'\n",
    "    df = df.sort_values(by=['ID', 'date'])\n",
    "\n",
    "    # Calculate the future 'SARS-IgG' value and assign to 'SARS-IgG_future_value' column\n",
    "    df['SARS-IgG_future_value'] = df.groupby('ID')['SARS-IgG'].shift(-1)\n",
    "\n",
    "    # Calculate the difference in days to the next date and assign to 'days_diff' column\n",
    "    df['days_until_next_measurement'] = df.groupby('ID')['date'].shift(-1) - df['date']\n",
    "    df['days_until_next_measurement'] = df['days_until_next_measurement'].dt.days\n",
    "\n",
    "    return df\n",
    "\n",
    "df = add_days_diff(df)\n",
    "# check function\n",
    "df[['ID','date', 'SARS-IgG', 'days_until_next_measurement', 'SARS-IgG_future_value']].head(15)"
   ],
   "metadata": {
    "collapsed": false
   }
  },
  {
   "cell_type": "code",
   "execution_count": 44,
   "outputs": [],
   "source": [
    "# define feature list\n",
    "features = ['SARS-IgG', 'Alter', 'Geschlecht', 'Dialyse_x',\n",
    "            'n_events_so_far', 'vaccination', 'days_until_next_measurement']"
   ],
   "metadata": {
    "collapsed": false
   }
  },
  {
   "cell_type": "code",
   "execution_count": 45,
   "outputs": [],
   "source": [
    "# define new target\n",
    "target = ['SARS-IgG_future_value']"
   ],
   "metadata": {
    "collapsed": false
   }
  },
  {
   "cell_type": "markdown",
   "source": [
    "## Define train and test users"
   ],
   "metadata": {
    "collapsed": false
   }
  },
  {
   "cell_type": "code",
   "execution_count": 46,
   "outputs": [],
   "source": [
    "# define train and test users\n",
    "random.seed(1994)\n",
    "\n",
    "all_users = df['ID'].unique().tolist()\n",
    "train_users = random.sample(all_users, int(len(all_users)*0.8))\n",
    "test_users = [user for user in all_users if user not in train_users]\n",
    "\n",
    "assert set(train_users + test_users) == set(all_users)"
   ],
   "metadata": {
    "collapsed": false
   }
  },
  {
   "cell_type": "code",
   "execution_count": 47,
   "outputs": [],
   "source": [
    "# option 1 - train and test set (nested cv)\n",
    "# define train and test dataframes\n",
    "# df_train = df[df['ID'].isin(train_users)]\n",
    "# df_test = df[df['ID'].isin(test_users)]\n",
    "# assert df_train.shape[0] + df_test.shape[0] == df.shape[0]\n",
    "\n",
    "# option 2 - standard cv\n",
    "df_train = df"
   ],
   "metadata": {
    "collapsed": false
   }
  },
  {
   "cell_type": "markdown",
   "source": [
    "## Transform"
   ],
   "metadata": {
    "collapsed": false
   }
  },
  {
   "cell_type": "code",
   "execution_count": 10,
   "outputs": [],
   "source": [
    "# Alter\n",
    "\"\"\"\n",
    "bins = np.arange(0, 120, 10)\n",
    "df_train.loc[:,'Alter_bins'] = pd.cut(df_train.Alter, bins)\n",
    "\n",
    "le_age = LabelEncoder()\n",
    "df_train.loc[:,'Alter_bins'] = le_age.fit_transform(df_train['Alter_bins'].values)\n",
    "\"\"\""
   ],
   "metadata": {
    "collapsed": false
   }
  },
  {
   "cell_type": "code",
   "execution_count": 11,
   "outputs": [],
   "source": [
    "#SARS-IgG\n",
    "\"\"\"\n",
    "rs = RobustScaler()\n",
    "rs.fit(df_train['SARS-IgG'].values.reshape(-1, 1))\n",
    "df_train.loc[:, 'SARS-IgG'] = rs.transform(df_train.loc[:,'SARS-IgG'].values.reshape(-1, 1))\n",
    "\"\"\""
   ],
   "metadata": {
    "collapsed": false
   }
  },
  {
   "cell_type": "markdown",
   "source": [
    "## Group Cross Validate"
   ],
   "metadata": {
    "collapsed": false
   }
  },
  {
   "cell_type": "code",
   "execution_count": 12,
   "outputs": [
    {
     "name": "stdout",
     "output_type": "stream",
     "text": [
      "mean RMSE:\t 2658\n",
      "std RMSE:\t 892\n"
     ]
    }
   ],
   "source": [
    "# define features and target\n",
    "X = df_train[features].dropna()\n",
    "y = df_train.loc[X.index, target].values.ravel()\n",
    "\n",
    "total_rmse_scores=list()\n",
    "\n",
    "# Retrieve an identifier column 'ID' from the dataframe\n",
    "groups = df_train.loc[X.index, 'ID']\n",
    "\n",
    "for rs in range(100):\n",
    "\n",
    "    # Initialize a Lasso regression model.\n",
    "    model = linear_model.LinearRegression()\n",
    "    # Perform 5-fold group cross-validation to evaluate model using negative MSE.\n",
    "    total_rmse_scores.extend(list(cross_val_score(model, X, y, groups=groups,cv=5, scoring='neg_mean_squared_error')))\n",
    "\n",
    "# Convert MSE scores to RMSE scores.\n",
    "rmse_scores = [(-1*score)**0.5 for score in total_rmse_scores]\n",
    "print('mean RMSE:\\t', int(np.array(rmse_scores).mean()))\n",
    "print('std RMSE:\\t', int(np.array(rmse_scores).std()))\n",
    "\n",
    "#TODO: go to hold-out test set\n"
   ],
   "metadata": {
    "collapsed": false
   }
  },
  {
   "cell_type": "markdown",
   "source": [
    "### Performance Log of Mean RMSE (Std):\n",
    "```\n",
    "features = ['Alter', 'Geschlecht', 'Dialyse_x', 'n_events_so_far','SARS-IgG', 'vaccination']\n",
    "Mean    2329\n",
    "Lasso   2525\n",
    "RF      2220 (495)\n",
    "RF      2599 (340)\n",
    "SVR     2446 (500)\n",
    "RF (default params)     2545 (339)\n",
    "Adaboost    2642 (327)\n",
    "\n",
    "features = ['Alter', 'Geschlecht', 'Dialyse_x', 'n_vaccinations_so_far', 'n_infections_so_far','SARS-IgG', 'vaccination']\n",
    "RF  2508 (227)\n",
    "\n",
    "--- with new days_diff approach ---\n",
    "nested approach:\n",
    "RF  2800 (300)\n",
    "\n",
    "no nested approach (standard cv)\n",
    "RF  2846 (702)\n",
    "RF with n_trees = n_features 3058 (859)\n",
    "\n",
    "```\n"
   ],
   "metadata": {
    "collapsed": false
   }
  },
  {
   "cell_type": "markdown",
   "source": [
    "## How good is a simple heuristic? (Grouped by days diff?)"
   ],
   "metadata": {
    "collapsed": false
   }
  },
  {
   "cell_type": "code",
   "execution_count": 48,
   "outputs": [
    {
     "data": {
      "text/plain": "  days_until_next_measurement_bins  Dialyse_x  count         mean  \\\n0                         (-1, 15]          1    7.0  1592.665714   \n1                         (15, 30]          0   54.0   981.306667   \n2                         (15, 30]          1  295.0  3439.456847   \n3                         (30, 90]          0  427.0   884.808665   \n4                         (30, 90]          1  875.0  1251.347669   \n5                        (90, 180]          0   91.0  1482.373077   \n6                        (90, 180]          1   38.0  2889.695526   \n7                       (180, 365]          0   46.0  1805.760000   \n8                       (180, 365]          1    1.0  2438.850000   \n9                       (365, 730]          0    3.0  5072.016667   \n\n           std      min       25%       50%        75%       max  \n0  3028.391130    20.79   122.190   382.620  1064.7500   8371.37  \n1   932.940342    57.12   373.275   757.630  1303.7200   4565.40  \n2  6269.564122     6.30   308.910  1269.850  4074.7700  55047.60  \n3  1180.407294     6.30   171.150   405.300  1130.4800   7835.74  \n4  2391.202782     6.30   100.365   423.780  1429.3850  36876.43  \n5  1311.606407    12.39   634.115  1245.300  1838.5500   8947.68  \n6  3954.233962     6.30   584.850  1577.065  2917.3975  18207.44  \n7  2310.622144   118.93   537.985   863.740  2153.6925  10160.64  \n8          NaN  2438.85  2438.850  2438.850  2438.8500   2438.85  \n9  8038.264989   368.21   431.265   494.320  7423.9200  14353.52  ",
      "text/html": "<div>\n<style scoped>\n    .dataframe tbody tr th:only-of-type {\n        vertical-align: middle;\n    }\n\n    .dataframe tbody tr th {\n        vertical-align: top;\n    }\n\n    .dataframe thead th {\n        text-align: right;\n    }\n</style>\n<table border=\"1\" class=\"dataframe\">\n  <thead>\n    <tr style=\"text-align: right;\">\n      <th></th>\n      <th>days_until_next_measurement_bins</th>\n      <th>Dialyse_x</th>\n      <th>count</th>\n      <th>mean</th>\n      <th>std</th>\n      <th>min</th>\n      <th>25%</th>\n      <th>50%</th>\n      <th>75%</th>\n      <th>max</th>\n    </tr>\n  </thead>\n  <tbody>\n    <tr>\n      <th>0</th>\n      <td>(-1, 15]</td>\n      <td>1</td>\n      <td>7.0</td>\n      <td>1592.665714</td>\n      <td>3028.391130</td>\n      <td>20.79</td>\n      <td>122.190</td>\n      <td>382.620</td>\n      <td>1064.7500</td>\n      <td>8371.37</td>\n    </tr>\n    <tr>\n      <th>1</th>\n      <td>(15, 30]</td>\n      <td>0</td>\n      <td>54.0</td>\n      <td>981.306667</td>\n      <td>932.940342</td>\n      <td>57.12</td>\n      <td>373.275</td>\n      <td>757.630</td>\n      <td>1303.7200</td>\n      <td>4565.40</td>\n    </tr>\n    <tr>\n      <th>2</th>\n      <td>(15, 30]</td>\n      <td>1</td>\n      <td>295.0</td>\n      <td>3439.456847</td>\n      <td>6269.564122</td>\n      <td>6.30</td>\n      <td>308.910</td>\n      <td>1269.850</td>\n      <td>4074.7700</td>\n      <td>55047.60</td>\n    </tr>\n    <tr>\n      <th>3</th>\n      <td>(30, 90]</td>\n      <td>0</td>\n      <td>427.0</td>\n      <td>884.808665</td>\n      <td>1180.407294</td>\n      <td>6.30</td>\n      <td>171.150</td>\n      <td>405.300</td>\n      <td>1130.4800</td>\n      <td>7835.74</td>\n    </tr>\n    <tr>\n      <th>4</th>\n      <td>(30, 90]</td>\n      <td>1</td>\n      <td>875.0</td>\n      <td>1251.347669</td>\n      <td>2391.202782</td>\n      <td>6.30</td>\n      <td>100.365</td>\n      <td>423.780</td>\n      <td>1429.3850</td>\n      <td>36876.43</td>\n    </tr>\n    <tr>\n      <th>5</th>\n      <td>(90, 180]</td>\n      <td>0</td>\n      <td>91.0</td>\n      <td>1482.373077</td>\n      <td>1311.606407</td>\n      <td>12.39</td>\n      <td>634.115</td>\n      <td>1245.300</td>\n      <td>1838.5500</td>\n      <td>8947.68</td>\n    </tr>\n    <tr>\n      <th>6</th>\n      <td>(90, 180]</td>\n      <td>1</td>\n      <td>38.0</td>\n      <td>2889.695526</td>\n      <td>3954.233962</td>\n      <td>6.30</td>\n      <td>584.850</td>\n      <td>1577.065</td>\n      <td>2917.3975</td>\n      <td>18207.44</td>\n    </tr>\n    <tr>\n      <th>7</th>\n      <td>(180, 365]</td>\n      <td>0</td>\n      <td>46.0</td>\n      <td>1805.760000</td>\n      <td>2310.622144</td>\n      <td>118.93</td>\n      <td>537.985</td>\n      <td>863.740</td>\n      <td>2153.6925</td>\n      <td>10160.64</td>\n    </tr>\n    <tr>\n      <th>8</th>\n      <td>(180, 365]</td>\n      <td>1</td>\n      <td>1.0</td>\n      <td>2438.850000</td>\n      <td>NaN</td>\n      <td>2438.85</td>\n      <td>2438.850</td>\n      <td>2438.850</td>\n      <td>2438.8500</td>\n      <td>2438.85</td>\n    </tr>\n    <tr>\n      <th>9</th>\n      <td>(365, 730]</td>\n      <td>0</td>\n      <td>3.0</td>\n      <td>5072.016667</td>\n      <td>8038.264989</td>\n      <td>368.21</td>\n      <td>431.265</td>\n      <td>494.320</td>\n      <td>7423.9200</td>\n      <td>14353.52</td>\n    </tr>\n  </tbody>\n</table>\n</div>"
     },
     "execution_count": 48,
     "metadata": {},
     "output_type": "execute_result"
    }
   ],
   "source": [
    "bins = [-1, 15, 30, 90, 180, 365, 365*2, 365*3]\n",
    "df['days_until_next_measurement_bins'] = pd.cut(df.days_until_next_measurement, bins=bins)\n",
    "res = df.groupby(['days_until_next_measurement_bins', 'Dialyse_x'], observed=False)['SARS-IgG_future_value'].describe()\n",
    "res.to_excel('../../results/heuristic_by_days_and_dialyse.xlsx')\n",
    "res = res.reset_index()\n",
    "res\n"
   ],
   "metadata": {
    "collapsed": false
   }
  },
  {
   "cell_type": "code",
   "execution_count": 49,
   "outputs": [],
   "source": [
    "def find_mean_value(df, number, binary_value, interval_column, binary_column, mean_column):\n",
    "    \"\"\"\n",
    "    Finds the mean value from the DataFrame where the given number falls within the interval\n",
    "    and the binary column matches the binary value.\n",
    "\n",
    "    Parameters:\n",
    "    df (pd.DataFrame): A pandas DataFrame with interval, binary, and mean columns.\n",
    "    number (float): The number to check which interval it falls into.\n",
    "    binary_value (int): The binary value to match in the binary column.\n",
    "    interval_column (str): The name of the interval column.\n",
    "    binary_column (str): The name of the binary column.\n",
    "    mean_column (str): The name of the mean value column.\n",
    "\n",
    "    Returns:\n",
    "    float: The mean value where the number falls within the interval and the binary value matches.\n",
    "    \"\"\"\n",
    "    # Convert the interval column to an IntervalIndex\n",
    "    intervals = pd.IntervalIndex(df[interval_column])\n",
    "\n",
    "    # Find the index where the number falls within the interval\n",
    "    index = intervals.contains(number)\n",
    "\n",
    "    # Filter the DataFrame by the interval index and binary value\n",
    "    filtered_df = df[index & (df[binary_column] == binary_value)]\n",
    "\n",
    "    # Return the corresponding mean value\n",
    "    if not filtered_df.empty:\n",
    "        return filtered_df[mean_column].values[0]\n",
    "    else:\n",
    "        return None\n"
   ],
   "metadata": {
    "collapsed": false
   }
  },
  {
   "cell_type": "code",
   "execution_count": 50,
   "outputs": [],
   "source": [
    "def apply_heuristic_mean_prediction(main_df, interval_df, interval_column, binary_column, mean_column):\n",
    "    \"\"\"\n",
    "    Applies the heuristic mean prediction to the main DataFrame.\n",
    "\n",
    "    Parameters:\n",
    "    main_df (pd.DataFrame): The main DataFrame with 'days_until_next_measurement' and 'Dialyse_x' columns.\n",
    "    interval_df (pd.DataFrame): The interval DataFrame with interval, binary, and mean columns.\n",
    "    interval_column (str): The name of the interval column in the interval DataFrame.\n",
    "    binary_column (str): The name of the binary column in both DataFrames.\n",
    "    mean_column (str): The name of the mean value column in the interval DataFrame.\n",
    "\n",
    "    Returns:\n",
    "    pd.DataFrame: The main DataFrame with an added 'heuristic_mean_prediction' column.\n",
    "    \"\"\"\n",
    "    predictions = main_df.apply(\n",
    "        lambda row: find_mean_value(interval_df, row['days_until_next_measurement'], row[binary_column], interval_column, binary_column, mean_column),\n",
    "        axis=1\n",
    "    )\n",
    "    main_df['heuristic_mean_prediction'] = predictions\n",
    "    return main_df"
   ],
   "metadata": {
    "collapsed": false
   }
  },
  {
   "cell_type": "code",
   "execution_count": 55,
   "outputs": [
    {
     "data": {
      "text/plain": "           date    ID  vaccination timepoint  SARS-IgG  infection  Dialyse_x  \\\n2    2021-03-12    C1          0.0        T1     18.27          0          0   \n3    2021-04-11    C1          0.0        T2    247.59          0          0   \n4    2021-06-10    C1          0.0        T3     91.35          0          0   \n5    2021-09-08    C1          0.0        T4     52.08          0          0   \n7    2021-11-12    C1          0.0       T12   1484.70          0          0   \n...         ...   ...          ...       ...       ...        ...        ...   \n3364 2023-04-04  HD98          0.0       T34   8697.80          0          1   \n3367 2021-02-28  HD99          0.0        T2     51.66          0          1   \n3368 2021-04-29  HD99          0.0        T3     20.79          0          1   \n3369 2021-07-28  HD99          0.0        T4      6.30          0          1   \n3371 2021-11-17  HD99          0.0       T12    237.30          0          1   \n\n      n_vaccinations  n_infections  group_id  ...  future_measurement_date  \\\n2                  2             0         2  ...                      NaN   \n3                  2             0         2  ...               2022-04-11   \n4                  2             0         2  ...                      NaN   \n5                  2             0         2  ...                      NaN   \n7                  2             0         2  ...                      NaN   \n...              ...           ...       ...  ...                      ...   \n3364               5             1         9  ...                      NaN   \n3367               3             0         7  ...                      NaN   \n3368               3             0         7  ...                      NaN   \n3369               3             0         7  ...                      NaN   \n3371               3             0         7  ...                      NaN   \n\n      future_measurement_val  Alter  Geschlecht  Dialyse_y  n_events_so_far  \\\n2                        NaN     61           1          0              1.0   \n3                     360.99     61           1          0              1.0   \n4                        NaN     61           1          0              1.0   \n5                        NaN     61           1          0              1.0   \n7                        NaN     61           1          0              2.0   \n...                      ...    ...         ...        ...              ...   \n3364                     NaN     76           0          1              6.0   \n3367                     NaN     80           1          1              2.0   \n3368                     NaN     80           1          1              2.0   \n3369                     NaN     80           1          1              2.0   \n3371                     NaN     80           1          1              3.0   \n\n     SARS-IgG_future_value  days_until_next_measurement  \\\n2                   247.59                         30.0   \n3                    91.35                         60.0   \n4                    52.08                         90.0   \n5                  1484.70                         65.0   \n7                   711.90                         60.0   \n...                    ...                          ...   \n3364                   NaN                          NaN   \n3367                 20.79                         60.0   \n3368                  6.30                         90.0   \n3369                237.30                        112.0   \n3371                   NaN                          NaN   \n\n      days_until_next_measurement_bins  heuristic_mean_prediction  \n2                         (15.0, 30.0]                 981.306667  \n3                         (30.0, 90.0]                 884.808665  \n4                         (30.0, 90.0]                 884.808665  \n5                         (30.0, 90.0]                 884.808665  \n7                         (30.0, 90.0]                 884.808665  \n...                                ...                        ...  \n3364                               NaN                        NaN  \n3367                      (30.0, 90.0]                1251.347669  \n3368                      (30.0, 90.0]                1251.347669  \n3369                     (90.0, 180.0]                2889.695526  \n3371                               NaN                        NaN  \n\n[2149 rows x 26 columns]",
      "text/html": "<div>\n<style scoped>\n    .dataframe tbody tr th:only-of-type {\n        vertical-align: middle;\n    }\n\n    .dataframe tbody tr th {\n        vertical-align: top;\n    }\n\n    .dataframe thead th {\n        text-align: right;\n    }\n</style>\n<table border=\"1\" class=\"dataframe\">\n  <thead>\n    <tr style=\"text-align: right;\">\n      <th></th>\n      <th>date</th>\n      <th>ID</th>\n      <th>vaccination</th>\n      <th>timepoint</th>\n      <th>SARS-IgG</th>\n      <th>infection</th>\n      <th>Dialyse_x</th>\n      <th>n_vaccinations</th>\n      <th>n_infections</th>\n      <th>group_id</th>\n      <th>...</th>\n      <th>future_measurement_date</th>\n      <th>future_measurement_val</th>\n      <th>Alter</th>\n      <th>Geschlecht</th>\n      <th>Dialyse_y</th>\n      <th>n_events_so_far</th>\n      <th>SARS-IgG_future_value</th>\n      <th>days_until_next_measurement</th>\n      <th>days_until_next_measurement_bins</th>\n      <th>heuristic_mean_prediction</th>\n    </tr>\n  </thead>\n  <tbody>\n    <tr>\n      <th>2</th>\n      <td>2021-03-12</td>\n      <td>C1</td>\n      <td>0.0</td>\n      <td>T1</td>\n      <td>18.27</td>\n      <td>0</td>\n      <td>0</td>\n      <td>2</td>\n      <td>0</td>\n      <td>2</td>\n      <td>...</td>\n      <td>NaN</td>\n      <td>NaN</td>\n      <td>61</td>\n      <td>1</td>\n      <td>0</td>\n      <td>1.0</td>\n      <td>247.59</td>\n      <td>30.0</td>\n      <td>(15.0, 30.0]</td>\n      <td>981.306667</td>\n    </tr>\n    <tr>\n      <th>3</th>\n      <td>2021-04-11</td>\n      <td>C1</td>\n      <td>0.0</td>\n      <td>T2</td>\n      <td>247.59</td>\n      <td>0</td>\n      <td>0</td>\n      <td>2</td>\n      <td>0</td>\n      <td>2</td>\n      <td>...</td>\n      <td>2022-04-11</td>\n      <td>360.99</td>\n      <td>61</td>\n      <td>1</td>\n      <td>0</td>\n      <td>1.0</td>\n      <td>91.35</td>\n      <td>60.0</td>\n      <td>(30.0, 90.0]</td>\n      <td>884.808665</td>\n    </tr>\n    <tr>\n      <th>4</th>\n      <td>2021-06-10</td>\n      <td>C1</td>\n      <td>0.0</td>\n      <td>T3</td>\n      <td>91.35</td>\n      <td>0</td>\n      <td>0</td>\n      <td>2</td>\n      <td>0</td>\n      <td>2</td>\n      <td>...</td>\n      <td>NaN</td>\n      <td>NaN</td>\n      <td>61</td>\n      <td>1</td>\n      <td>0</td>\n      <td>1.0</td>\n      <td>52.08</td>\n      <td>90.0</td>\n      <td>(30.0, 90.0]</td>\n      <td>884.808665</td>\n    </tr>\n    <tr>\n      <th>5</th>\n      <td>2021-09-08</td>\n      <td>C1</td>\n      <td>0.0</td>\n      <td>T4</td>\n      <td>52.08</td>\n      <td>0</td>\n      <td>0</td>\n      <td>2</td>\n      <td>0</td>\n      <td>2</td>\n      <td>...</td>\n      <td>NaN</td>\n      <td>NaN</td>\n      <td>61</td>\n      <td>1</td>\n      <td>0</td>\n      <td>1.0</td>\n      <td>1484.70</td>\n      <td>65.0</td>\n      <td>(30.0, 90.0]</td>\n      <td>884.808665</td>\n    </tr>\n    <tr>\n      <th>7</th>\n      <td>2021-11-12</td>\n      <td>C1</td>\n      <td>0.0</td>\n      <td>T12</td>\n      <td>1484.70</td>\n      <td>0</td>\n      <td>0</td>\n      <td>2</td>\n      <td>0</td>\n      <td>2</td>\n      <td>...</td>\n      <td>NaN</td>\n      <td>NaN</td>\n      <td>61</td>\n      <td>1</td>\n      <td>0</td>\n      <td>2.0</td>\n      <td>711.90</td>\n      <td>60.0</td>\n      <td>(30.0, 90.0]</td>\n      <td>884.808665</td>\n    </tr>\n    <tr>\n      <th>...</th>\n      <td>...</td>\n      <td>...</td>\n      <td>...</td>\n      <td>...</td>\n      <td>...</td>\n      <td>...</td>\n      <td>...</td>\n      <td>...</td>\n      <td>...</td>\n      <td>...</td>\n      <td>...</td>\n      <td>...</td>\n      <td>...</td>\n      <td>...</td>\n      <td>...</td>\n      <td>...</td>\n      <td>...</td>\n      <td>...</td>\n      <td>...</td>\n      <td>...</td>\n      <td>...</td>\n    </tr>\n    <tr>\n      <th>3364</th>\n      <td>2023-04-04</td>\n      <td>HD98</td>\n      <td>0.0</td>\n      <td>T34</td>\n      <td>8697.80</td>\n      <td>0</td>\n      <td>1</td>\n      <td>5</td>\n      <td>1</td>\n      <td>9</td>\n      <td>...</td>\n      <td>NaN</td>\n      <td>NaN</td>\n      <td>76</td>\n      <td>0</td>\n      <td>1</td>\n      <td>6.0</td>\n      <td>NaN</td>\n      <td>NaN</td>\n      <td>NaN</td>\n      <td>NaN</td>\n    </tr>\n    <tr>\n      <th>3367</th>\n      <td>2021-02-28</td>\n      <td>HD99</td>\n      <td>0.0</td>\n      <td>T2</td>\n      <td>51.66</td>\n      <td>0</td>\n      <td>1</td>\n      <td>3</td>\n      <td>0</td>\n      <td>7</td>\n      <td>...</td>\n      <td>NaN</td>\n      <td>NaN</td>\n      <td>80</td>\n      <td>1</td>\n      <td>1</td>\n      <td>2.0</td>\n      <td>20.79</td>\n      <td>60.0</td>\n      <td>(30.0, 90.0]</td>\n      <td>1251.347669</td>\n    </tr>\n    <tr>\n      <th>3368</th>\n      <td>2021-04-29</td>\n      <td>HD99</td>\n      <td>0.0</td>\n      <td>T3</td>\n      <td>20.79</td>\n      <td>0</td>\n      <td>1</td>\n      <td>3</td>\n      <td>0</td>\n      <td>7</td>\n      <td>...</td>\n      <td>NaN</td>\n      <td>NaN</td>\n      <td>80</td>\n      <td>1</td>\n      <td>1</td>\n      <td>2.0</td>\n      <td>6.30</td>\n      <td>90.0</td>\n      <td>(30.0, 90.0]</td>\n      <td>1251.347669</td>\n    </tr>\n    <tr>\n      <th>3369</th>\n      <td>2021-07-28</td>\n      <td>HD99</td>\n      <td>0.0</td>\n      <td>T4</td>\n      <td>6.30</td>\n      <td>0</td>\n      <td>1</td>\n      <td>3</td>\n      <td>0</td>\n      <td>7</td>\n      <td>...</td>\n      <td>NaN</td>\n      <td>NaN</td>\n      <td>80</td>\n      <td>1</td>\n      <td>1</td>\n      <td>2.0</td>\n      <td>237.30</td>\n      <td>112.0</td>\n      <td>(90.0, 180.0]</td>\n      <td>2889.695526</td>\n    </tr>\n    <tr>\n      <th>3371</th>\n      <td>2021-11-17</td>\n      <td>HD99</td>\n      <td>0.0</td>\n      <td>T12</td>\n      <td>237.30</td>\n      <td>0</td>\n      <td>1</td>\n      <td>3</td>\n      <td>0</td>\n      <td>7</td>\n      <td>...</td>\n      <td>NaN</td>\n      <td>NaN</td>\n      <td>80</td>\n      <td>1</td>\n      <td>1</td>\n      <td>3.0</td>\n      <td>NaN</td>\n      <td>NaN</td>\n      <td>NaN</td>\n      <td>NaN</td>\n    </tr>\n  </tbody>\n</table>\n<p>2149 rows × 26 columns</p>\n</div>"
     },
     "execution_count": 55,
     "metadata": {},
     "output_type": "execute_result"
    }
   ],
   "source": [
    "df"
   ],
   "metadata": {
    "collapsed": false
   }
  },
  {
   "cell_type": "code",
   "execution_count": 51,
   "outputs": [],
   "source": [
    "result_df = apply_heuristic_mean_prediction(df, res, 'days_until_next_measurement_bins', 'Dialyse_x', 'mean')"
   ],
   "metadata": {
    "collapsed": false
   }
  },
  {
   "cell_type": "code",
   "execution_count": 52,
   "outputs": [
    {
     "name": "stdout",
     "output_type": "stream",
     "text": [
      "RMSE\t 3160\n"
     ]
    }
   ],
   "source": [
    "y_pred = result_df.dropna(subset='SARS-IgG_future_value')['heuristic_mean_prediction']\n",
    "y_true = result_df.dropna(subset='heuristic_mean_prediction')['SARS-IgG_future_value']\n",
    "\n",
    "from sklearn.metrics import mean_squared_error\n",
    "print('RMSE\\t', int(mean_squared_error(y_true, y_pred)**0.5))"
   ],
   "metadata": {
    "collapsed": false
   }
  },
  {
   "cell_type": "markdown",
   "source": [
    "Unexpected result of 3160. I thought it would decrease if we differentiate by prediction horizon. It's not yet clear whether there is a bug in the code or in the data."
   ],
   "metadata": {
    "collapsed": false
   }
  },
  {
   "cell_type": "code",
   "execution_count": 65,
   "outputs": [
    {
     "data": {
      "text/plain": "        ID       date  Dialyse_x  SARS-IgG  days_until_next_measurement  \\\n2       C1 2021-03-12          0     18.27                         30.0   \n3       C1 2021-04-11          0    247.59                         60.0   \n4       C1 2021-06-10          0     91.35                         90.0   \n5       C1 2021-09-08          0     52.08                         65.0   \n7       C1 2021-11-12          0   1484.70                         60.0   \n...    ...        ...        ...       ...                          ...   \n3364  HD98 2023-04-04          1   8697.80                          NaN   \n3367  HD99 2021-02-28          1     51.66                         60.0   \n3368  HD99 2021-04-29          1     20.79                         90.0   \n3369  HD99 2021-07-28          1      6.30                        112.0   \n3371  HD99 2021-11-17          1    237.30                          NaN   \n\n      SARS-IgG_future_value  heuristic_mean_prediction  \n2                    247.59                 981.306667  \n3                     91.35                 884.808665  \n4                     52.08                 884.808665  \n5                   1484.70                 884.808665  \n7                    711.90                 884.808665  \n...                     ...                        ...  \n3364                    NaN                        NaN  \n3367                  20.79                1251.347669  \n3368                   6.30                1251.347669  \n3369                 237.30                2889.695526  \n3371                    NaN                        NaN  \n\n[2149 rows x 7 columns]",
      "text/html": "<div>\n<style scoped>\n    .dataframe tbody tr th:only-of-type {\n        vertical-align: middle;\n    }\n\n    .dataframe tbody tr th {\n        vertical-align: top;\n    }\n\n    .dataframe thead th {\n        text-align: right;\n    }\n</style>\n<table border=\"1\" class=\"dataframe\">\n  <thead>\n    <tr style=\"text-align: right;\">\n      <th></th>\n      <th>ID</th>\n      <th>date</th>\n      <th>Dialyse_x</th>\n      <th>SARS-IgG</th>\n      <th>days_until_next_measurement</th>\n      <th>SARS-IgG_future_value</th>\n      <th>heuristic_mean_prediction</th>\n    </tr>\n  </thead>\n  <tbody>\n    <tr>\n      <th>2</th>\n      <td>C1</td>\n      <td>2021-03-12</td>\n      <td>0</td>\n      <td>18.27</td>\n      <td>30.0</td>\n      <td>247.59</td>\n      <td>981.306667</td>\n    </tr>\n    <tr>\n      <th>3</th>\n      <td>C1</td>\n      <td>2021-04-11</td>\n      <td>0</td>\n      <td>247.59</td>\n      <td>60.0</td>\n      <td>91.35</td>\n      <td>884.808665</td>\n    </tr>\n    <tr>\n      <th>4</th>\n      <td>C1</td>\n      <td>2021-06-10</td>\n      <td>0</td>\n      <td>91.35</td>\n      <td>90.0</td>\n      <td>52.08</td>\n      <td>884.808665</td>\n    </tr>\n    <tr>\n      <th>5</th>\n      <td>C1</td>\n      <td>2021-09-08</td>\n      <td>0</td>\n      <td>52.08</td>\n      <td>65.0</td>\n      <td>1484.70</td>\n      <td>884.808665</td>\n    </tr>\n    <tr>\n      <th>7</th>\n      <td>C1</td>\n      <td>2021-11-12</td>\n      <td>0</td>\n      <td>1484.70</td>\n      <td>60.0</td>\n      <td>711.90</td>\n      <td>884.808665</td>\n    </tr>\n    <tr>\n      <th>...</th>\n      <td>...</td>\n      <td>...</td>\n      <td>...</td>\n      <td>...</td>\n      <td>...</td>\n      <td>...</td>\n      <td>...</td>\n    </tr>\n    <tr>\n      <th>3364</th>\n      <td>HD98</td>\n      <td>2023-04-04</td>\n      <td>1</td>\n      <td>8697.80</td>\n      <td>NaN</td>\n      <td>NaN</td>\n      <td>NaN</td>\n    </tr>\n    <tr>\n      <th>3367</th>\n      <td>HD99</td>\n      <td>2021-02-28</td>\n      <td>1</td>\n      <td>51.66</td>\n      <td>60.0</td>\n      <td>20.79</td>\n      <td>1251.347669</td>\n    </tr>\n    <tr>\n      <th>3368</th>\n      <td>HD99</td>\n      <td>2021-04-29</td>\n      <td>1</td>\n      <td>20.79</td>\n      <td>90.0</td>\n      <td>6.30</td>\n      <td>1251.347669</td>\n    </tr>\n    <tr>\n      <th>3369</th>\n      <td>HD99</td>\n      <td>2021-07-28</td>\n      <td>1</td>\n      <td>6.30</td>\n      <td>112.0</td>\n      <td>237.30</td>\n      <td>2889.695526</td>\n    </tr>\n    <tr>\n      <th>3371</th>\n      <td>HD99</td>\n      <td>2021-11-17</td>\n      <td>1</td>\n      <td>237.30</td>\n      <td>NaN</td>\n      <td>NaN</td>\n      <td>NaN</td>\n    </tr>\n  </tbody>\n</table>\n<p>2149 rows × 7 columns</p>\n</div>"
     },
     "execution_count": 65,
     "metadata": {},
     "output_type": "execute_result"
    }
   ],
   "source": [
    "result_df[['ID','date', 'Dialyse_x', 'SARS-IgG','days_until_next_measurement', 'SARS-IgG_future_value', 'heuristic_mean_prediction',]]"
   ],
   "metadata": {
    "collapsed": false
   }
  },
  {
   "cell_type": "markdown",
   "source": [
    "\n"
   ],
   "metadata": {
    "collapsed": false
   }
  }
 ],
 "metadata": {
  "kernelspec": {
   "display_name": "Python 3",
   "language": "python",
   "name": "python3"
  },
  "language_info": {
   "codemirror_mode": {
    "name": "ipython",
    "version": 2
   },
   "file_extension": ".py",
   "mimetype": "text/x-python",
   "name": "python",
   "nbconvert_exporter": "python",
   "pygments_lexer": "ipython2",
   "version": "2.7.6"
  }
 },
 "nbformat": 4,
 "nbformat_minor": 0
}
