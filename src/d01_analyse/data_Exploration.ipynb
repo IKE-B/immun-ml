{
 "cells": [
  {
   "cell_type": "markdown",
   "metadata": {},
   "source": [
    "# Initial Data Exploration on Preprocessed Data"
   ]
  },
  {
   "cell_type": "code",
   "execution_count": null,
   "metadata": {},
   "outputs": [],
   "source": [
    "# imports\n",
    "import pandas as pd\n",
    "import os\n",
    "import matplotlib.pyplot as plt\n",
    "import seaborn as sns"
   ]
  },
  {
   "cell_type": "code",
   "execution_count": null,
   "metadata": {},
   "outputs": [],
   "source": [
    "# change current working directory to content root\n",
    "os.chdir('../..')\n",
    "# check that this worked out\n",
    "assert os.getcwd().split('/')[-1] == 'immun-ml'\n",
    "# ignore error because we do hacky things\n",
    "pd.options.mode.chained_assignment = None"
   ]
  },
  {
   "cell_type": "code",
   "execution_count": null,
   "metadata": {},
   "outputs": [],
   "source": [
    "raw_target_df = pd.read_parquet('data/immun-ml_targets_v1.parquet')\n",
    "raw_control_df = pd.read_parquet('data/immun-ml_control_v1.parquet')"
   ]
  },
  {
   "cell_type": "markdown",
   "metadata": {},
   "source": [
    "## Analyse available SARS-IgG Data"
   ]
  },
  {
   "cell_type": "code",
   "execution_count": null,
   "metadata": {},
   "outputs": [],
   "source": [
    "sars_igg_columns = [col for col in raw_target_df.columns if 'SARS-IgG' in col and not 'dicho' in col]\n",
    "target_df = raw_target_df[sars_igg_columns]\n",
    "target_df.loc[:,'non_null_count'] = target_df.notnull().sum(axis=1)\n",
    "\n",
    "sars_igg_columns = [col for col in raw_control_df.columns if 'SARS-IgG' in col and not 'dicho' in col]\n",
    "control_df = raw_control_df[sars_igg_columns]\n",
    "control_df.loc[:,'non_null_count'] = control_df.notnull().sum(axis=1)"
   ]
  },
  {
   "cell_type": "code",
   "execution_count": null,
   "metadata": {},
   "outputs": [],
   "source": [
    "print('How many SARS-IgG values do we have per target patient?')\n",
    "target_df['non_null_count'].describe()"
   ]
  },
  {
   "cell_type": "code",
   "execution_count": null,
   "metadata": {},
   "outputs": [],
   "source": [
    "print('How many SARS-IgG values do we have per control patient?')\n",
    "control_df['non_null_count'].describe()"
   ]
  },
  {
   "cell_type": "code",
   "execution_count": null,
   "metadata": {},
   "outputs": [],
   "source": [
    "sub_control_df = control_df.iloc[:, :-1]\n",
    "sub_target_df = target_df.iloc[:, :-1]\n",
    "\n",
    "sub_control_df.rename(columns={col: col.split('_')[-1] for col in sub_control_df.columns}, inplace=True)\n",
    "sub_target_df.rename(columns={col: col.split('_')[-1] for col in sub_target_df.columns}, inplace=True)\n",
    "\n",
    "plt.figure(figsize=(15, 5))\n",
    "\n",
    "#all_data_melted = pd.melt(sub_df, var_name='time_point', value_name='Value')\n",
    "target_df_melted = pd.melt(sub_target_df, var_name='time_point', value_name='Value')\n",
    "control_df_melted = pd.melt(sub_control_df, var_name='time_point', value_name='Value')\n",
    "# Convert to numeric, coerce errors to NaN\n",
    "target_df_melted['Value'] = pd.to_numeric(target_df_melted['Value'], errors='coerce')\n",
    "control_df_melted['Value'] = pd.to_numeric(control_df_melted['Value'], errors='coerce')\n",
    "\n",
    "# Drop rows with NaN in the 'Value' column\n",
    "target_df_melted = target_df_melted.dropna(subset=['Value'])\n",
    "target_df_melted['dialysis'] = 'yes'\n",
    "control_df_melted = control_df_melted.dropna(subset=['Value'])\n",
    "control_df_melted['dialysis'] = 'no'\n",
    "merged = pd.concat([target_df_melted, control_df_melted])\n",
    "\n",
    "g = sns.boxenplot(data=merged, x = 'time_point', y ='Value', hue='dialysis')\n",
    "g.set_yscale(\"log\")\n",
    "\n",
    "plt.title('SARS-IgG distribution by time points')"
   ]
  },
  {
   "cell_type": "code",
   "execution_count": null,
   "metadata": {},
   "outputs": [],
   "source": [
    "plt.figure(figsize=(15, 5))\n",
    "\n",
    "g = sns.lineplot(data=merged, x = 'time_point', y ='Value', hue='dialysis')\n",
    "g.set_yscale(\"log\")\n",
    "\n",
    "plt.title('SARS-IgG distribution by time points')"
   ]
  },
  {
   "cell_type": "code",
   "execution_count": null,
   "metadata": {},
   "outputs": [],
   "source": [
    "target_values = target_df.count()\n",
    "control_values = control_df.count()\n",
    "value_counts = pd.concat([target_values, control_values], axis=1, keys=['target', 'control'])\n",
    "value_counts"
   ]
  },
  {
   "cell_type": "markdown",
   "metadata": {},
   "source": [
    "## Analyse available SARS-RAI Data"
   ]
  },
  {
   "cell_type": "code",
   "execution_count": null,
   "metadata": {},
   "outputs": [],
   "source": [
    "raw_target_df"
   ]
  },
  {
   "cell_type": "code",
   "execution_count": null,
   "metadata": {},
   "outputs": [],
   "source": [
    "sars_igg_columns = [col for col in raw_target_df.columns if 'RAI_' in col and not 'strati' in col]\n",
    "target_df = raw_target_df[sars_igg_columns]\n",
    "target_df.loc[:,'non_null_count'] = target_df.notnull().sum(axis=1)\n",
    "\n",
    "sars_igg_columns = [col for col in raw_control_df.columns if 'RAI_' in col and not 'strati' in col]\n",
    "control_df = raw_control_df[sars_igg_columns]\n",
    "control_df.loc[:,'non_null_count'] = control_df.notnull().sum(axis=1)"
   ]
  },
  {
   "cell_type": "code",
   "execution_count": null,
   "metadata": {},
   "outputs": [],
   "source": [
    "print('How many SARS-RAI values do we have per target patient?')\n",
    "target_df['non_null_count'].describe()"
   ]
  },
  {
   "cell_type": "code",
   "execution_count": null,
   "metadata": {},
   "outputs": [],
   "source": [
    "print('How many SARS-RAI values do we have per control patient?')\n",
    "control_df['non_null_count'].describe()"
   ]
  },
  {
   "cell_type": "code",
   "execution_count": null,
   "metadata": {},
   "outputs": [],
   "source": [
    "sub_control_df = control_df.iloc[:, :-1]\n",
    "sub_target_df = target_df.iloc[:, :-1]\n",
    "\n",
    "sub_control_df.rename(columns={col: col.split('_')[-1] for col in sub_control_df.columns}, inplace=True)\n",
    "sub_target_df.rename(columns={col: col.split('_')[-1] for col in sub_target_df.columns}, inplace=True)\n",
    "\n",
    "plt.figure(figsize=(15, 5))\n",
    "\n",
    "#all_data_melted = pd.melt(sub_df, var_name='time_point', value_name='Value')\n",
    "target_df_melted = pd.melt(sub_target_df, var_name='time_point', value_name='Value')\n",
    "control_df_melted = pd.melt(sub_control_df, var_name='time_point', value_name='Value')\n",
    "# Convert to numeric, coerce errors to NaN\n",
    "target_df_melted['Value'] = pd.to_numeric(target_df_melted['Value'], errors='coerce')\n",
    "control_df_melted['Value'] = pd.to_numeric(control_df_melted['Value'], errors='coerce')\n",
    "\n",
    "# Drop rows with NaN in the 'Value' column\n",
    "target_df_melted = target_df_melted.dropna(subset=['Value'])\n",
    "target_df_melted['dialysis'] = 'yes'\n",
    "control_df_melted = control_df_melted.dropna(subset=['Value'])\n",
    "control_df_melted['dialysis'] = 'no'\n",
    "merged = pd.concat([target_df_melted, control_df_melted])\n",
    "\n",
    "g = sns.boxenplot(data=merged, x = 'time_point', y ='Value', hue='dialysis')\n",
    "g.set_yscale(\"log\")\n",
    "\n",
    "plt.title('SARS-RAI distribution by time points')"
   ]
  },
  {
   "cell_type": "code",
   "execution_count": null,
   "metadata": {},
   "outputs": [],
   "source": [
    "plt.figure(figsize=(15, 5))\n",
    "\n",
    "g = sns.lineplot(data=merged, x = 'time_point', y ='Value', hue='dialysis')\n",
    "g.set_yscale(\"log\")\n",
    "\n",
    "plt.title('SARS-RAI distribution by time points')"
   ]
  },
  {
   "cell_type": "code",
   "execution_count": null,
   "metadata": {},
   "outputs": [],
   "source": [
    "target_values = target_df.count()\n",
    "control_values = control_df.count()\n",
    "value_counts = pd.concat([target_values, control_values], axis=1, keys=['target', 'control'])\n",
    "value_counts"
   ]
  },
  {
   "cell_type": "markdown",
   "metadata": {},
   "source": [
    "## NT_norm\n",
    "TODO add me"
   ]
  },
  {
   "cell_type": "markdown",
   "metadata": {},
   "source": [
    "### SFU_SARS"
   ]
  },
  {
   "cell_type": "code",
   "execution_count": null,
   "metadata": {},
   "outputs": [],
   "source": [
    "sars_igg_columns = [col for col in raw_target_df.columns if 'SFU_SARS' in col and not 'dicho' in col]\n",
    "target_df = raw_target_df[sars_igg_columns]\n",
    "target_df.loc[:,'non_null_count'] = target_df.notnull().sum(axis=1)\n",
    "\n",
    "sars_igg_columns = [col for col in raw_control_df.columns if 'SFU_SARS' in col and not 'dicho' in col]\n",
    "control_df = raw_control_df[sars_igg_columns]\n",
    "control_df.loc[:,'non_null_count'] = control_df.notnull().sum(axis=1)"
   ]
  },
  {
   "cell_type": "code",
   "execution_count": null,
   "metadata": {},
   "outputs": [],
   "source": [
    "print('How many SFU_SARS values do we have per target patient?')\n",
    "target_df['non_null_count'].describe()"
   ]
  },
  {
   "cell_type": "code",
   "execution_count": null,
   "metadata": {},
   "outputs": [],
   "source": [
    "print('How many SFU_SARS values do we have per control patient?')\n",
    "control_df['non_null_count'].describe()"
   ]
  },
  {
   "cell_type": "code",
   "execution_count": null,
   "metadata": {},
   "outputs": [],
   "source": [
    "sub_control_df = control_df.iloc[:, :-1]\n",
    "sub_target_df = target_df.iloc[:, :-1]\n",
    "\n",
    "sub_control_df.rename(columns={col: col.split('_')[-1] for col in sub_control_df.columns}, inplace=True)\n",
    "sub_target_df.rename(columns={col: col.split('_')[-1] for col in sub_target_df.columns}, inplace=True)\n",
    "\n",
    "plt.figure(figsize=(15, 5))\n",
    "\n",
    "#all_data_melted = pd.melt(sub_df, var_name='time_point', value_name='Value')\n",
    "target_df_melted = pd.melt(sub_target_df, var_name='time_point', value_name='Value')\n",
    "control_df_melted = pd.melt(sub_control_df, var_name='time_point', value_name='Value')\n",
    "# Convert to numeric, coerce errors to NaN\n",
    "target_df_melted['Value'] = pd.to_numeric(target_df_melted['Value'], errors='coerce')\n",
    "control_df_melted['Value'] = pd.to_numeric(control_df_melted['Value'], errors='coerce')\n",
    "\n",
    "# Drop rows with NaN in the 'Value' column\n",
    "target_df_melted = target_df_melted.dropna(subset=['Value'])\n",
    "target_df_melted['dialysis'] = 'yes'\n",
    "control_df_melted = control_df_melted.dropna(subset=['Value'])\n",
    "control_df_melted['dialysis'] = 'no'\n",
    "merged = pd.concat([target_df_melted, control_df_melted])\n",
    "\n",
    "g = sns.boxenplot(data=merged, x = 'time_point', y ='Value', hue='dialysis')\n",
    "g.set_yscale(\"log\")\n",
    "\n",
    "plt.title('SFU_SARS distribution by time points')"
   ]
  },
  {
   "cell_type": "code",
   "execution_count": null,
   "metadata": {},
   "outputs": [],
   "source": [
    "plt.figure(figsize=(15, 5))\n",
    "\n",
    "g = sns.lineplot(data=merged, x = 'time_point', y ='Value', hue='dialysis')\n",
    "g.set_yscale(\"log\")\n",
    "\n",
    "plt.title('SFU_SARS distribution by time points')"
   ]
  },
  {
   "cell_type": "code",
   "execution_count": null,
   "metadata": {},
   "outputs": [],
   "source": [
    "target_values = target_df.count()\n",
    "control_values = control_df.count()\n",
    "value_counts = pd.concat([target_values, control_values], axis=1, keys=['target', 'control'])\n",
    "value_counts"
   ]
  },
  {
   "cell_type": "markdown",
   "metadata": {},
   "source": [
    "### SFUsub_SARS"
   ]
  },
  {
   "cell_type": "code",
   "execution_count": null,
   "metadata": {},
   "outputs": [],
   "source": [
    "sars_igg_columns = [col for col in raw_target_df.columns if 'SFUsub_SARS' in col and not 'dicho' in col]\n",
    "target_df = raw_target_df[sars_igg_columns]\n",
    "target_df.loc[:,'non_null_count'] = target_df.notnull().sum(axis=1)\n",
    "\n",
    "sars_igg_columns = [col for col in raw_control_df.columns if 'SFUsub_SARS' in col and not 'dicho' in col]\n",
    "control_df = raw_control_df[sars_igg_columns]\n",
    "control_df.loc[:,'non_null_count'] = control_df.notnull().sum(axis=1)"
   ]
  },
  {
   "cell_type": "code",
   "execution_count": null,
   "metadata": {},
   "outputs": [],
   "source": [
    "print('How many SFUsub_SARS values do we have per target patient?')\n",
    "target_df['non_null_count'].describe()"
   ]
  },
  {
   "cell_type": "code",
   "execution_count": null,
   "metadata": {},
   "outputs": [],
   "source": [
    "print('How many SFUsub_SARS values do we have per control patient?')\n",
    "control_df['non_null_count'].describe()"
   ]
  },
  {
   "cell_type": "code",
   "execution_count": null,
   "metadata": {},
   "outputs": [],
   "source": [
    "sub_control_df = control_df.iloc[:, :-1]\n",
    "sub_target_df = target_df.iloc[:, :-1]\n",
    "\n",
    "sub_control_df.rename(columns={col: col.split('_')[-1] for col in sub_control_df.columns}, inplace=True)\n",
    "sub_target_df.rename(columns={col: col.split('_')[-1] for col in sub_target_df.columns}, inplace=True)\n",
    "\n",
    "plt.figure(figsize=(15, 5))\n",
    "\n",
    "#all_data_melted = pd.melt(sub_df, var_name='time_point', value_name='Value')\n",
    "target_df_melted = pd.melt(sub_target_df, var_name='time_point', value_name='Value')\n",
    "control_df_melted = pd.melt(sub_control_df, var_name='time_point', value_name='Value')\n",
    "# Convert to numeric, coerce errors to NaN\n",
    "target_df_melted['Value'] = pd.to_numeric(target_df_melted['Value'], errors='coerce')\n",
    "control_df_melted['Value'] = pd.to_numeric(control_df_melted['Value'], errors='coerce')\n",
    "\n",
    "# Drop rows with NaN in the 'Value' column\n",
    "target_df_melted = target_df_melted.dropna(subset=['Value'])\n",
    "target_df_melted['dialysis'] = 'yes'\n",
    "control_df_melted = control_df_melted.dropna(subset=['Value'])\n",
    "control_df_melted['dialysis'] = 'no'\n",
    "merged = pd.concat([target_df_melted, control_df_melted])\n",
    "\n",
    "g = sns.boxenplot(data=merged, x = 'time_point', y ='Value', hue='dialysis')\n",
    "g.set_yscale(\"log\")\n",
    "\n",
    "plt.title('SFUsub_SARS distribution by time points')"
   ]
  },
  {
   "cell_type": "code",
   "execution_count": null,
   "metadata": {},
   "outputs": [],
   "source": [
    "plt.figure(figsize=(15, 5))\n",
    "\n",
    "g = sns.lineplot(data=merged, x = 'time_point', y ='Value', hue='dialysis')\n",
    "g.set_yscale(\"log\")\n",
    "\n",
    "plt.title('SFUsub_SARS distribution by time points')"
   ]
  },
  {
   "cell_type": "code",
   "execution_count": null,
   "metadata": {},
   "outputs": [],
   "source": [
    "target_values = target_df.count()\n",
    "control_values = control_df.count()\n",
    "value_counts = pd.concat([target_values, control_values], axis=1, keys=['target', 'control'])\n",
    "value_counts"
   ]
  },
  {
   "cell_type": "markdown",
   "metadata": {},
   "source": [
    "### SI_SARS"
   ]
  },
  {
   "cell_type": "code",
   "execution_count": null,
   "metadata": {},
   "outputs": [],
   "source": [
    "sars_igg_columns = [col for col in raw_target_df.columns if 'SI_SARS' in col and not 'dicho' in col]\n",
    "target_df = raw_target_df[sars_igg_columns]\n",
    "target_df.loc[:,'non_null_count'] = target_df.notnull().sum(axis=1)\n",
    "\n",
    "sars_igg_columns = [col for col in raw_control_df.columns if 'SI_SARS' in col and not 'dicho' in col]\n",
    "control_df = raw_control_df[sars_igg_columns]\n",
    "control_df.loc[:,'non_null_count'] = control_df.notnull().sum(axis=1)"
   ]
  },
  {
   "cell_type": "code",
   "execution_count": null,
   "metadata": {},
   "outputs": [],
   "source": [
    "print('How many SI_SARS values do we have per target patient?')\n",
    "target_df['non_null_count'].describe()"
   ]
  },
  {
   "cell_type": "code",
   "execution_count": null,
   "metadata": {},
   "outputs": [],
   "source": [
    "print('How many SI_SARS values do we have per control patient?')\n",
    "control_df['non_null_count'].describe()"
   ]
  },
  {
   "cell_type": "code",
   "execution_count": null,
   "metadata": {},
   "outputs": [],
   "source": [
    "sub_control_df = control_df.iloc[:, :-1]\n",
    "sub_target_df = target_df.iloc[:, :-1]\n",
    "\n",
    "sub_control_df.rename(columns={col: col.split('_')[-1] for col in sub_control_df.columns}, inplace=True)\n",
    "sub_target_df.rename(columns={col: col.split('_')[-1] for col in sub_target_df.columns}, inplace=True)\n",
    "\n",
    "plt.figure(figsize=(15, 5))\n",
    "\n",
    "#all_data_melted = pd.melt(sub_df, var_name='time_point', value_name='Value')\n",
    "target_df_melted = pd.melt(sub_target_df, var_name='time_point', value_name='Value')\n",
    "control_df_melted = pd.melt(sub_control_df, var_name='time_point', value_name='Value')\n",
    "# Convert to numeric, coerce errors to NaN\n",
    "target_df_melted['Value'] = pd.to_numeric(target_df_melted['Value'], errors='coerce')\n",
    "control_df_melted['Value'] = pd.to_numeric(control_df_melted['Value'], errors='coerce')\n",
    "\n",
    "# Drop rows with NaN in the 'Value' column\n",
    "target_df_melted = target_df_melted.dropna(subset=['Value'])\n",
    "target_df_melted['dialysis'] = 'yes'\n",
    "control_df_melted = control_df_melted.dropna(subset=['Value'])\n",
    "control_df_melted['dialysis'] = 'no'\n",
    "merged = pd.concat([target_df_melted, control_df_melted])\n",
    "\n",
    "g = sns.boxenplot(data=merged, x = 'time_point', y ='Value', hue='dialysis')\n",
    "g.set_yscale(\"log\")\n",
    "\n",
    "plt.title('SI_SARS distribution by time points')"
   ]
  },
  {
   "cell_type": "code",
   "execution_count": null,
   "metadata": {},
   "outputs": [],
   "source": [
    "plt.figure(figsize=(15, 5))\n",
    "\n",
    "g = sns.lineplot(data=merged, x = 'time_point', y ='Value', hue='dialysis')\n",
    "g.set_yscale(\"log\")\n",
    "\n",
    "plt.title('SI_SARS distribution by time points')"
   ]
  },
  {
   "cell_type": "code",
   "execution_count": null,
   "metadata": {},
   "outputs": [],
   "source": [
    "target_values = target_df.count()\n",
    "control_values = control_df.count()\n",
    "value_counts = pd.concat([target_values, control_values], axis=1, keys=['target', 'control'])\n",
    "value_counts"
   ]
  },
  {
   "cell_type": "markdown",
   "metadata": {},
   "source": [
    "### Correlation"
   ]
  },
  {
   "cell_type": "code",
   "execution_count": null,
   "metadata": {},
   "outputs": [],
   "source": [
    "### dataset still to polluted for this. Require more preprocessing..."
   ]
  },
  {
   "cell_type": "code",
   "execution_count": null,
   "metadata": {},
   "outputs": [],
   "source": []
  }
 ],
 "metadata": {
  "kernelspec": {
   "display_name": "immun_ml",
   "language": "python",
   "name": "python3"
  },
  "language_info": {
   "codemirror_mode": {
    "name": "ipython",
    "version": 3
   },
   "file_extension": ".py",
   "mimetype": "text/x-python",
   "name": "python",
   "nbconvert_exporter": "python",
   "pygments_lexer": "ipython3",
   "version": "3.11.7"
  }
 },
 "nbformat": 4,
 "nbformat_minor": 2
}
