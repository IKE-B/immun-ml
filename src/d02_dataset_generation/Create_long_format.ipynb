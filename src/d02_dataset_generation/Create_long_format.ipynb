{
 "cells": [
  {
   "cell_type": "markdown",
   "source": [
    "# Create dataset from wide to long format"
   ],
   "metadata": {
    "collapsed": false
   }
  },
  {
   "cell_type": "code",
   "execution_count": 1,
   "outputs": [],
   "source": [
    "# imports\n",
    "import pandas as pd"
   ],
   "metadata": {
    "collapsed": false
   }
  },
  {
   "cell_type": "code",
   "execution_count": 2,
   "outputs": [],
   "source": [
    "# local imports\n",
    "from src.d00_helpers import helpers as h"
   ],
   "metadata": {
    "collapsed": false
   }
  },
  {
   "cell_type": "code",
   "execution_count": 3,
   "outputs": [],
   "source": [
    "# read in dataset\n",
    "df = pd.read_excel('G://My Drive//Forschung//Mitarbeiter/Allgaier//23-12-06_Immun-ML//04_Data//00_raw//2024.03.21_Mastertabelle.xlsx',\n",
    "                   na_values=[' ',''])"
   ],
   "metadata": {
    "collapsed": false
   }
  },
  {
   "cell_type": "code",
   "execution_count": 4,
   "outputs": [],
   "source": [
    "# read in codebook\n",
    "abs_path_to_codebook = 'G://My Drive//Forschung//Mitarbeiter/Allgaier//23-12-06_Immun-ML//01_Codebook//Codebook.xlsx'\n",
    "cb = pd.read_excel(abs_path_to_codebook, sheet_name='TimePoints').iloc[:25]"
   ],
   "metadata": {
    "collapsed": false
   }
  },
  {
   "cell_type": "code",
   "execution_count": 5,
   "outputs": [],
   "source": [
    "# define new columns in long format\n",
    "new_cols = ['ID', 'date', 'timepoint', 'vaccination', 'infection', 'SARS-IgG']\n",
    "df_long = pd.DataFrame(columns = new_cols)"
   ],
   "metadata": {
    "collapsed": false
   }
  },
  {
   "cell_type": "code",
   "execution_count": 6,
   "outputs": [],
   "source": [
    "# create mappings from T-timestamps (T1, T2, ..., T34) to vaccination and from T-timestamps to dates\n",
    "\n",
    "# Which T-timestamps refers to which vaccination number?\n",
    "t_date_vaccs = dict(zip(cb['coding'], cb['relation_to_number_of_vaccination']))\n",
    "\n",
    "# What is the relative difference in number of date to vaccination date?\n",
    "t_date_mapping = h.create_T_date_mapping(abs_path_to_codebook)"
   ],
   "metadata": {
    "collapsed": false
   }
  },
  {
   "cell_type": "code",
   "execution_count": 7,
   "outputs": [
    {
     "name": "stdout",
     "output_type": "stream",
     "text": [
      "C321\n",
      "C322\n",
      "C323\n",
      "C324\n",
      "C325\n",
      "C326\n",
      "C327\n",
      "C328\n",
      "C329\n",
      "C330\n",
      "C331\n",
      "C332\n",
      "C333\n",
      "C334\n",
      "C335\n",
      "C336\n",
      "C337\n",
      "C338\n",
      "C339\n",
      "C340\n",
      "C341\n",
      "C342\n",
      "C343\n",
      "C344\n",
      "C345\n",
      "C346\n",
      "C347\n",
      "C348\n",
      "C349\n",
      "C350\n",
      "C351\n",
      "C352\n",
      "C353\n",
      "C354\n",
      "C355\n",
      "C356\n",
      "C357\n",
      "C358\n",
      "C359\n",
      "C360\n",
      "C361\n",
      "C362\n",
      "C363\n",
      "C364\n",
      "C365\n",
      "C366\n",
      "C367\n",
      "C368\n",
      "C369\n",
      "C370\n"
     ]
    }
   ],
   "source": [
    "# get a list of all patient IDs\n",
    "patient_ids = [id for id in df['ID'].unique()]\n",
    "\n",
    "# which variables shall be in long format?\n",
    "measurement_column = 'SARS-IgG'\n",
    "\n",
    "cols = ['patient_id', 'timepoint', measurement_column, 'date', 'vaccination', 'infection']\n",
    "res = pd.DataFrame(columns=cols)\n",
    "\n",
    "for patient_id in patient_ids:\n",
    "    res_p = h.calculate_measuring_date_and_create_long_format(df, t_date_mapping, t_date_vaccs, patient_id, measurement_column)\n",
    "    res = pd.concat([res if not res.empty else None, res_p], ignore_index=True)"
   ],
   "metadata": {
    "collapsed": false
   }
  },
  {
   "cell_type": "code",
   "execution_count": 9,
   "outputs": [],
   "source": [
    "res.to_excel('G://My Drive//Forschung//Mitarbeiter/Allgaier//23-12-06_Immun-ML//04_Data//01_processed//2024.03.21_Mastertabelle_long.xlsx')"
   ],
   "metadata": {
    "collapsed": false
   }
  }
 ],
 "metadata": {
  "kernelspec": {
   "display_name": "Python 3",
   "language": "python",
   "name": "python3"
  },
  "language_info": {
   "codemirror_mode": {
    "name": "ipython",
    "version": 2
   },
   "file_extension": ".py",
   "mimetype": "text/x-python",
   "name": "python",
   "nbconvert_exporter": "python",
   "pygments_lexer": "ipython2",
   "version": "2.7.6"
  }
 },
 "nbformat": 4,
 "nbformat_minor": 0
}
