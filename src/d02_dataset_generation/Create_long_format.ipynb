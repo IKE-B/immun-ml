{
 "cells": [
  {
   "cell_type": "markdown",
   "source": [
    "# Create dataset from wide to long format"
   ],
   "metadata": {
    "collapsed": false
   }
  },
  {
   "cell_type": "code",
   "execution_count": 1,
   "outputs": [],
   "source": [
    "# imports\n",
    "import pandas as pd"
   ],
   "metadata": {
    "collapsed": false
   }
  },
  {
   "cell_type": "code",
   "execution_count": 2,
   "outputs": [],
   "source": [
    "# local imports\n",
    "from src.d00_helpers import helpers as h"
   ],
   "metadata": {
    "collapsed": false
   }
  },
  {
   "cell_type": "code",
   "execution_count": 3,
   "outputs": [],
   "source": [
    "# read in dataset\n",
    "name='2024.04.24_Mastertabelle'\n",
    "df = pd.read_excel(f'G://My Drive//Forschung//Mitarbeiter/Allgaier//23-12-06_Immun-ML//04_Data//00_raw//{name}.xlsx',\n",
    "                   na_values=[' ',''])"
   ],
   "metadata": {
    "collapsed": false
   }
  },
  {
   "cell_type": "code",
   "execution_count": 4,
   "outputs": [],
   "source": [
    "# read in codebook\n",
    "abs_path_to_codebook = 'G://My Drive//Forschung//Mitarbeiter/Allgaier//23-12-06_Immun-ML//01_Codebook//Codebook.xlsx'\n",
    "cb = pd.read_excel(abs_path_to_codebook, sheet_name='TimePoints').iloc[:25]"
   ],
   "metadata": {
    "collapsed": false
   }
  },
  {
   "cell_type": "code",
   "execution_count": 5,
   "outputs": [],
   "source": [
    "# define new columns in long format\n",
    "new_cols = ['ID', 'date', 'timepoint', 'vaccination', 'infection', 'SARS-IgG']\n",
    "df_long = pd.DataFrame(columns = new_cols)"
   ],
   "metadata": {
    "collapsed": false
   }
  },
  {
   "cell_type": "code",
   "execution_count": 6,
   "outputs": [],
   "source": [
    "# create mappings from T-timestamps (T1, T2, ..., T34) to vaccination and from T-timestamps to dates\n",
    "\n",
    "# Which T-timestamps refers to which vaccination number?\n",
    "t_date_vaccs = dict(zip(cb['coding'], cb['relation_to_number_of_vaccination']))\n",
    "\n",
    "# What is the relative difference in number of date to vaccination date?\n",
    "t_date_mapping = h.create_T_date_mapping(abs_path_to_codebook)"
   ],
   "metadata": {
    "collapsed": false
   }
  },
  {
   "cell_type": "code",
   "execution_count": 7,
   "outputs": [
    {
     "name": "stdout",
     "output_type": "stream",
     "text": [
      "Patient without any date:  C327\n",
      "Patient without any date:  C361\n",
      "Patient without any date:  C362\n",
      "Patient without any date:  C363\n",
      "Patient without any date:  C364\n",
      "Patient without any date:  C365\n",
      "Patient without any date:  C366\n",
      "Patient without any date:  C367\n",
      "Patient without any date:  C368\n",
      "Patient without any date:  C369\n",
      "Patient without any date:  C370\n"
     ]
    }
   ],
   "source": [
    "# get a list of all patient IDs\n",
    "patient_ids = [id for id in df['ID'].unique()]\n",
    "\n",
    "# which variables shall be in long format?\n",
    "measurement_column = 'SARS-IgG'\n",
    "\n",
    "cols = ['patient_id', 'timepoint', measurement_column, 'date', 'vaccination', 'infection']\n",
    "res = pd.DataFrame(columns=cols)\n",
    "\n",
    "for patient_id in patient_ids:\n",
    "    res_p = h.calculate_measuring_date_and_create_long_format(df, t_date_mapping, t_date_vaccs,patient_id, measurement_column)\n",
    "    res = pd.concat([res if not res.empty else None, res_p], ignore_index=True)\n",
    "\n",
    "res['infection'] = res['infection'].fillna(0)\n",
    "res['vaccination'] = res['vaccination'].fillna(0)"
   ],
   "metadata": {
    "collapsed": false
   }
  },
  {
   "cell_type": "code",
   "execution_count": 8,
   "outputs": [],
   "source": [
    "res.to_excel(f'G://My Drive//Forschung//Mitarbeiter/Allgaier//23-12-06_Immun-ML//04_Data//01_processed//{name}_long.xlsx')"
   ],
   "metadata": {
    "collapsed": false
   }
  },
  {
   "cell_type": "code",
   "execution_count": 8,
   "outputs": [],
   "source": [],
   "metadata": {
    "collapsed": false
   }
  }
 ],
 "metadata": {
  "kernelspec": {
   "display_name": "Python 3",
   "language": "python",
   "name": "python3"
  },
  "language_info": {
   "codemirror_mode": {
    "name": "ipython",
    "version": 2
   },
   "file_extension": ".py",
   "mimetype": "text/x-python",
   "name": "python",
   "nbconvert_exporter": "python",
   "pygments_lexer": "ipython2",
   "version": "2.7.6"
  }
 },
 "nbformat": 4,
 "nbformat_minor": 0
}
