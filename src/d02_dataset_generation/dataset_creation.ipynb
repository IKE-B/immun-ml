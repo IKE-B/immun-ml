{
 "cells": [
  {
   "cell_type": "markdown",
   "metadata": {},
   "source": [
    "## Parquet Dataset Generation\n",
    "\n",
    "Generate a minimized version of the `2024.01.23_Mastertable_with Codebook-Header.xlsx` as a foundation for further analysis.\n",
    "\n",
    "Manual Changes:\n",
    "- Removed `s. T13` values from `RAI_T20`\n",
    "- Removed `EU1_NT_norm_T22` entry for HD66, as it was to large for a long...\n",
    "- Removed `SARS-IgG_T20` and `SARS-IgG_T20_dicho` for `C364` as they made no sense.\n",
    "\n",
    "Change Protocol:\n",
    "- [X] Remove duplicate header row and second ID row\n",
    "- [X] Remove unnamed tailing columns (not required for analysis after medical consultation)\n",
    "- [X] Remove columns without any values \n",
    "    - ['2_Impfung', '3_Impfung', '4_Impfung', '5_Impfung', 'IS_2_Blut', 'T25_Abstand_zur_Infektion', 'SFU_norm_T34', 'SFUsub_norm_T34', 'SFU_norm_T35', 'SFUsub_norm_T35']\n",
    "- [X] Remove rows without any values\n",
    "    - ['C72', 'C78', 'C80', 'C83', 'C86', 'C88', 'C92', 'C97', 'C104', 'C110', 'C112', 'C113', 'C119', 'C122', 'C123', 'C125', 'C142', 'C143', 'C147', 'C148', 'C152', 'C155', 'C159', 'C164', 'C167', 'C176', 'C179', 'C180', 'C183', 'C184', 'C186', 'C193', 'C202', 'C207', 'C208', 'C209', 'C211', 'C214', 'C215', 'C217', 'C219', 'C222', 'C226', 'C230', 'C236', 'C238', 'C241', 'C243', 'C247', 'C253', 'C254', 'C255', 'C257', 'C259', 'C260', 'C261', 'C264', 'C265', 'C267', 'C268', 'C270', 'C271', 'C274', 'C277', 'C278', 'C282', 'C283', 'C287', 'C288', 'C289', 'C292', 'C293', 'C294', 'C295', 'C297', 'C298', 'C299', 'C302', nan, 'C321', 'C322', 'C323']\n",
    "- [ ] Discuss missing data\n",
    "- [X] Fix encodings\n",
    "- [X] Parse dtypes\n",
    "    - [X] Some integer values also had an accompanying date, this was removed\n",
    "    - [X] Some integer values were just `?`, these were set to nan\n",
    "- [X] Split into target and control data frame\n",
    "- [X] Save data frames to parquet"
   ]
  },
  {
   "cell_type": "code",
   "execution_count": null,
   "metadata": {},
   "outputs": [],
   "source": [
    "# First, set current working directory to content root!\n",
    "import os\n",
    "os.chdir('../..')\n",
    "\n",
    "# check if current working directory is now project root\n",
    "assert os.getcwd().split('/')[-1] == 'immun-ml'"
   ]
  },
  {
   "cell_type": "code",
   "execution_count": null,
   "metadata": {},
   "outputs": [],
   "source": [
    "import pandas as pd\n",
    "import numpy as np"
   ]
  },
  {
   "cell_type": "code",
   "execution_count": null,
   "metadata": {},
   "outputs": [],
   "source": [
    "raw = pd.read_excel('data/2024.01.23_Mastertable_with Codebook-Header.xlsx', sheet_name='CV-D&C', index_col='ID_ML')"
   ]
  },
  {
   "cell_type": "markdown",
   "metadata": {},
   "source": [
    "### Remove second header row and ID row"
   ]
  },
  {
   "cell_type": "code",
   "execution_count": null,
   "metadata": {},
   "outputs": [],
   "source": [
    "raw = raw.drop(['ID_ML'])\n",
    "raw = raw.drop(['ID'], axis=1)"
   ]
  },
  {
   "cell_type": "markdown",
   "metadata": {},
   "source": [
    "### Remove unnamed tailing columns"
   ]
  },
  {
   "cell_type": "code",
   "execution_count": null,
   "metadata": {},
   "outputs": [],
   "source": [
    "raw = raw.loc[:, ~raw.columns.str.contains('^Unnamed')]"
   ]
  },
  {
   "cell_type": "markdown",
   "metadata": {},
   "source": [
    "### Remove empty columns"
   ]
  },
  {
   "cell_type": "code",
   "execution_count": null,
   "metadata": {},
   "outputs": [],
   "source": [
    "empty_columns = []\n",
    "for col in raw.columns:\n",
    "    if raw[col].dropna().empty:\n",
    "        empty_columns.append(col)\n",
    "\n",
    "raw = raw.drop(empty_columns, axis=1)"
   ]
  },
  {
   "cell_type": "code",
   "execution_count": null,
   "metadata": {},
   "outputs": [],
   "source": [
    "empty_rows = []\n",
    "for id, row in raw.iterrows():\n",
    "    if row.dropna().empty:\n",
    "        empty_rows.append(id)\n",
    "\n",
    "raw = raw.drop(empty_rows, axis=0)"
   ]
  },
  {
   "cell_type": "markdown",
   "metadata": {},
   "source": [
    "### Talk about missing data"
   ]
  },
  {
   "cell_type": "code",
   "execution_count": null,
   "metadata": {},
   "outputs": [],
   "source": [
    "missing_10 = []\n",
    "missing_100 = []\n",
    "missing_200 = []\n",
    "missing_over_200 = []\n",
    "for col in raw.columns:\n",
    "    nans = raw[col].isna().sum()\n",
    "    if nans < 10:\n",
    "        missing_10.append(col)\n",
    "    elif nans < 100:\n",
    "        missing_100.append(col)\n",
    "    elif nans < 200:\n",
    "        missing_200.append(col)\n",
    "    elif nans > 200:\n",
    "        missing_over_200.append(col)"
   ]
  },
  {
   "cell_type": "code",
   "execution_count": null,
   "metadata": {},
   "outputs": [],
   "source": [
    "print('Missing less than 10:', len(missing_10))\n",
    "print('Missing less than 100:', len(missing_100))\n",
    "print('Missing less than 200:', len(missing_200))\n",
    "print('Missing over 200:', len(missing_over_200))"
   ]
  },
  {
   "cell_type": "markdown",
   "metadata": {},
   "source": [
    "### Fix encodings\n",
    "`Art_der_Nierenerkrankung` is only encoded for half the values, the rest has a string of the actual kidney disease. These are also not defined in the code book.\n",
    "To reduce the complexity and enable a easier processing the column is set to 1 if a disease is present and nan otherwise.\n",
    "\n",
    "`Andere_Tumorerkrg` and `Diabetes` als does not fit the code book. Here strings can simply be set to 1 while 1, 0 and nan can be kept.\n",
    "\n",
    "`IS_Dosis` contains random ?s as values. These are set to nan as no information can be conducted form them.\n",
    "\n",
    "`SARS-IgG_T4` and `RAI_T4` contained `kein Serum` entries. These are removed the same way as the ?s above.\n",
    "\n",
    "C371 has set `SARS-IgG_T14` to `>5250`. It is set to 5250."
   ]
  },
  {
   "cell_type": "code",
   "execution_count": null,
   "metadata": {},
   "outputs": [],
   "source": [
    "def clean_kidney_disease(row):\n",
    "    if pd.isna(row):\n",
    "        return row\n",
    "    if type(row) == float or type(row) == int or type(row) == str:\n",
    "        return 1\n",
    "    return np.nan\n",
    "\n",
    "raw['Art_der_Nierenerkrankung'] = raw['Art_der_Nierenerkrankung'].apply(lambda x: clean_kidney_disease(x))"
   ]
  },
  {
   "cell_type": "code",
   "execution_count": null,
   "metadata": {},
   "outputs": [],
   "source": [
    "def set_string_to_1(row):\n",
    "    if pd.isna(row) or row == '0':\n",
    "        return row\n",
    "    if row == 1 or type(row) == str:\n",
    "        return 1\n",
    "    return np.nan\n",
    "\n",
    "raw['Andere_Tumorerkrg'] = raw['Andere_Tumorerkrg'].apply(lambda x: set_string_to_1(x))\n",
    "raw['Diabetes'] = raw['Diabetes'].apply(lambda x: set_string_to_1(x))"
   ]
  },
  {
   "cell_type": "code",
   "execution_count": null,
   "metadata": {},
   "outputs": [],
   "source": [
    "def remove_unwanted_string_values(row):\n",
    "    if type(row) == str:\n",
    "        return np.nan\n",
    "    return row\n",
    "\n",
    "raw['IS_Dosis'] = raw['IS_Dosis'].apply(lambda x: remove_unwanted_string_values(x))\n",
    "raw['RAI_T4'] = raw['RAI_T4'].apply(lambda x: remove_unwanted_string_values(x))\n",
    "raw['SARS-IgG_T4'] = raw['SARS-IgG_T4'].apply(lambda x: remove_unwanted_string_values(x))"
   ]
  },
  {
   "cell_type": "code",
   "execution_count": null,
   "metadata": {},
   "outputs": [],
   "source": [
    "raw.loc['C371', 'SARS-IgG_T14'] = 5250"
   ]
  },
  {
   "cell_type": "markdown",
   "metadata": {},
   "source": [
    "### Parse dtypes\n",
    "Currently only handles a few dtypes, this is way to tedious"
   ]
  },
  {
   "cell_type": "code",
   "execution_count": null,
   "metadata": {},
   "outputs": [],
   "source": [
    "## SARS-Infektion has some dates instead of ints\n",
    "## these have to be formatted to ints for the parquet save to work\n",
    "def remove_date_from_int_row(row):\n",
    "    \"\"\"\n",
    "    Some int rows have a date after the integer value.\n",
    "    This function strips the date.\n",
    "    \"\"\"\n",
    "    if type(row) == str:\n",
    "        row = row.split(' ')[0]\n",
    "    if row == '?':\n",
    "        return np.nan\n",
    "    return row\n",
    "\n",
    "raw['SARS-Infektion'] = raw['SARS-Infektion'].apply(lambda x: remove_date_from_int_row(x))\n",
    "raw['1_Impfstoff'] = raw['1_Impfstoff'].apply(lambda x: remove_date_from_int_row(x))\n",
    "raw['2_Impfstoff'] = raw['2_Impfstoff'].apply(lambda x: remove_date_from_int_row(x))\n",
    "raw['3_Impfstoff'] = raw['3_Impfstoff'].apply(lambda x: remove_date_from_int_row(x))\n",
    "raw['4_Impfstoff'] = raw['4_Impfstoff'].apply(lambda x: remove_date_from_int_row(x))\n",
    "raw['5_Impfstoff'] = raw['5_Impfstoff'].apply(lambda x: remove_date_from_int_row(x))\n",
    "raw['SFUsub_VZV_T4'] = raw['SFUsub_VZV_T4'].apply(lambda x: x if type(x) == float else np.nan)"
   ]
  },
  {
   "cell_type": "code",
   "execution_count": null,
   "metadata": {},
   "outputs": [],
   "source": [
    "float_cols = [\n",
    "    'Alter', 'Geschlecht', 'Dialyse', 'Gruppen', 'BTI_prevacc1', 'SARS-Infektion',\n",
    "    'BTI_prevacc2', 'BTI_prevacc3', 'BTI_prevacc4', 'BTI_prevacc5', 'BTI_preT1',\n",
    "    'BTI_preT2', 'BTI_preT3', 'BTI_preT4', 'BTI_preT12', 'SFUsub_VZV_T4',\n",
    "    '1_Impfstoff', '2_Impfstoff', '3_Impfstoff', '4_Impfstoff', '5_Impfstoff',]\n",
    "\n",
    "for col in float_cols:\n",
    "    raw[col] = raw[col].astype(float)\n",
    "\n",
    "date_cols = ['1_Infektion', '2_Infektion', 'Entnahme_T32']\n",
    "for col in date_cols:\n",
    "    raw[col] = pd.to_datetime(raw[col], errors='coerce')"
   ]
  },
  {
   "cell_type": "markdown",
   "metadata": {},
   "source": [
    "### Split dataset into target and control group"
   ]
  },
  {
   "cell_type": "code",
   "execution_count": null,
   "metadata": {},
   "outputs": [],
   "source": [
    "# split into target and control df\n",
    "target_ds = raw[raw['Dialyse'] == 1]\n",
    "control_ds = raw[raw['Dialyse'] == 0]"
   ]
  },
  {
   "cell_type": "code",
   "execution_count": null,
   "metadata": {},
   "outputs": [],
   "source": [
    "print('raw rows: ', len(raw))\n",
    "print('target rows: ', len(target_ds))\n",
    "print('control rows: ', len(control_ds))\n",
    "print('combined rows: ', len(target_ds) + len(control_ds))\n",
    "print('missing rows: ', len(raw) - len(target_ds) - len(control_ds))"
   ]
  },
  {
   "cell_type": "code",
   "execution_count": null,
   "metadata": {},
   "outputs": [],
   "source": [
    "# get all rows which are in raw but not in target or control\n",
    "missing = raw[~raw.index.isin(target_ds.index) & ~raw.index.isin(control_ds.index)]\n",
    "len(missing)"
   ]
  },
  {
   "cell_type": "code",
   "execution_count": null,
   "metadata": {},
   "outputs": [],
   "source": [
    "# missing.index.to_list()"
   ]
  },
  {
   "cell_type": "code",
   "execution_count": null,
   "metadata": {},
   "outputs": [],
   "source": [
    "# save to parquet\n",
    "target_ds.to_parquet('data/immun-ml_targets.parquet')\n",
    "control_ds.to_parquet('data/immun-ml_control.parquet')"
   ]
  }
 ],
 "metadata": {
  "kernelspec": {
   "display_name": "immun_ml",
   "language": "python",
   "name": "python3"
  },
  "language_info": {
   "codemirror_mode": {
    "name": "ipython",
    "version": 3
   },
   "file_extension": ".py",
   "mimetype": "text/x-python",
   "name": "python",
   "nbconvert_exporter": "python",
   "pygments_lexer": "ipython3",
   "version": "3.11.7"
  }
 },
 "nbformat": 4,
 "nbformat_minor": 2
}
